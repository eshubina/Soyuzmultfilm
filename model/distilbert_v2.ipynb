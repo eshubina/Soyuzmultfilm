{
 "cells": [
  {
   "cell_type": "code",
   "execution_count": 1,
   "metadata": {
    "_cell_guid": "b1076dfc-b9ad-4769-8c92-a6c4dae69d19",
    "_uuid": "8f2839f25d086af736a60e9eeb907d3b93b6e0e5",
    "execution": {
     "iopub.execute_input": "2024-10-31T05:29:27.913789Z",
     "iopub.status.busy": "2024-10-31T05:29:27.912968Z",
     "iopub.status.idle": "2024-10-31T05:29:48.896663Z",
     "shell.execute_reply": "2024-10-31T05:29:48.895833Z",
     "shell.execute_reply.started": "2024-10-31T05:29:27.913732Z"
    }
   },
   "outputs": [
    {
     "name": "stdout",
     "output_type": "stream",
     "text": [
      "/kaggle/input/cartoon/sample_submission.csv\n",
      "/kaggle/input/cartoon/train.csv\n",
      "/kaggle/input/cartoon/test.csv\n"
     ]
    }
   ],
   "source": [
    "import numpy as np \n",
    "import pandas as pd \n",
    "\n",
    "import os\n",
    "for dirname, _, filenames in os.walk('/kaggle/input'):\n",
    "    for filename in filenames:\n",
    "        print(os.path.join(dirname, filename))\n",
    "        \n",
    "from sklearn.model_selection import train_test_split\n",
    "from sklearn.preprocessing import LabelEncoder\n",
    "from transformers import DistilBertTokenizer, DistilBertForSequenceClassification, Trainer, TrainingArguments\n",
    "import torch\n",
    "from torch.utils.data import Dataset, DataLoader\n",
    "from sklearn.metrics import classification_report, f1_score\n",
    "\n",
    "import warnings\n",
    "# Отключение предупреждений\n",
    "warnings.filterwarnings('ignore')"
   ]
  },
  {
   "cell_type": "markdown",
   "metadata": {},
   "source": [
    "### Классификация анимационных проектов"
   ]
  },
  {
   "cell_type": "markdown",
   "metadata": {},
   "source": [
    "**Определение принадлежности видеороликов к проектам на основе анализа текстового описания, субтитров и другой доступной информации**"
   ]
  },
  {
   "cell_type": "markdown",
   "metadata": {},
   "source": [
    "***Данные***\n",
    "\n",
    "**Основное** \n",
    "- yt_reel_id уникальный идентификатор ролика\n",
    "- cartoon целевая переменная\n",
    "\n",
    "**Файлы**\n",
    "- train.csv - the training set\n",
    "- test.csv - the test set\n",
    "- sample_submission.csv - a sample submission file in the correct format\n",
    "\n",
    "**Колонки**\n",
    "- date дата, когда ролик появился на ютубе\n",
    "- reel_name название ролика\n",
    "- yt_reel_id уникальный идентификатор ролика на ютубе\n",
    "- cartoon название проекта, целевая переменная\n",
    "- url ссылка на ролик (включает идентификатор)\n",
    "- text текст сниппета, включает название ролика и описание\n",
    "- seconds длительность\n",
    "- is_shorts вертикальные видеоролики продолжительностью <60сек\n",
    "- broadcast лайвы, прямые эфиры\n",
    "- yt_channel_id идентификатор ютуб канала\n",
    "- yt_channel_name название ютуб канала\n",
    "- yt_ch_url ссылка на ютуб канал\n",
    "- yt_channel_type тип канала (Мультфильмы, Детские, Блогеры, Shorts…)\n",
    "- flag_closed ютуб канал закрыт, если 1\n",
    "- international метка международных каналов, каналов на иностранном языке (переведенный - контент)\n",
    "- language язык"
   ]
  },
  {
   "cell_type": "markdown",
   "metadata": {},
   "source": [
    "### Загрузка данных"
   ]
  },
  {
   "cell_type": "code",
   "execution_count": 2,
   "metadata": {
    "execution": {
     "iopub.execute_input": "2024-10-31T05:29:48.899353Z",
     "iopub.status.busy": "2024-10-31T05:29:48.898589Z",
     "iopub.status.idle": "2024-10-31T05:29:55.674519Z",
     "shell.execute_reply": "2024-10-31T05:29:55.673400Z",
     "shell.execute_reply.started": "2024-10-31T05:29:48.899303Z"
    }
   },
   "outputs": [],
   "source": [
    "sample = pd.read_csv('/kaggle/input/cartoon/sample_submission.csv')\n",
    "data = pd.read_csv('/kaggle/input/cartoon/train.csv', lineterminator='\\n')\n",
    "test_data = pd.read_csv('/kaggle/input/cartoon/test.csv', lineterminator='\\n')"
   ]
  },
  {
   "cell_type": "markdown",
   "metadata": {},
   "source": [
    "#### Посмотрим датасеты"
   ]
  },
  {
   "cell_type": "code",
   "execution_count": 3,
   "metadata": {
    "execution": {
     "iopub.execute_input": "2024-10-31T05:29:55.676284Z",
     "iopub.status.busy": "2024-10-31T05:29:55.675941Z",
     "iopub.status.idle": "2024-10-31T05:29:55.681848Z",
     "shell.execute_reply": "2024-10-31T05:29:55.680833Z",
     "shell.execute_reply.started": "2024-10-31T05:29:55.676250Z"
    }
   },
   "outputs": [],
   "source": [
    "def discover(data):\n",
    "    display(data.info())\n",
    "    display(f'Размер данных:{data.shape}') \n",
    "    display(f'Количество пропусков:{data.isna().sum()}')\n",
    "    display(f'Количество дубликатов:{data.duplicated().sum()}') \n",
    "    display(data.head())"
   ]
  },
  {
   "cell_type": "code",
   "execution_count": 4,
   "metadata": {
    "execution": {
     "iopub.execute_input": "2024-10-31T05:29:55.684629Z",
     "iopub.status.busy": "2024-10-31T05:29:55.684189Z",
     "iopub.status.idle": "2024-10-31T05:29:55.780567Z",
     "shell.execute_reply": "2024-10-31T05:29:55.778862Z",
     "shell.execute_reply.started": "2024-10-31T05:29:55.684579Z"
    }
   },
   "outputs": [
    {
     "name": "stdout",
     "output_type": "stream",
     "text": [
      "<class 'pandas.core.frame.DataFrame'>\n",
      "RangeIndex: 55608 entries, 0 to 55607\n",
      "Data columns (total 2 columns):\n",
      " #   Column      Non-Null Count  Dtype \n",
      "---  ------      --------------  ----- \n",
      " 0   yt_reel_id  55608 non-null  object\n",
      " 1   cartoon     55608 non-null  object\n",
      "dtypes: object(2)\n",
      "memory usage: 869.0+ KB\n"
     ]
    },
    {
     "data": {
      "text/plain": [
       "None"
      ]
     },
     "metadata": {},
     "output_type": "display_data"
    },
    {
     "data": {
      "text/plain": [
       "'Размер данных:(55608, 2)'"
      ]
     },
     "metadata": {},
     "output_type": "display_data"
    },
    {
     "data": {
      "text/plain": [
       "'Количество пропусков:yt_reel_id    0\\ncartoon       0\\ndtype: int64'"
      ]
     },
     "metadata": {},
     "output_type": "display_data"
    },
    {
     "data": {
      "text/plain": [
       "'Количество дубликатов:0'"
      ]
     },
     "metadata": {},
     "output_type": "display_data"
    },
    {
     "data": {
      "text/html": [
       "<div>\n",
       "<style scoped>\n",
       "    .dataframe tbody tr th:only-of-type {\n",
       "        vertical-align: middle;\n",
       "    }\n",
       "\n",
       "    .dataframe tbody tr th {\n",
       "        vertical-align: top;\n",
       "    }\n",
       "\n",
       "    .dataframe thead th {\n",
       "        text-align: right;\n",
       "    }\n",
       "</style>\n",
       "<table border=\"1\" class=\"dataframe\">\n",
       "  <thead>\n",
       "    <tr style=\"text-align: right;\">\n",
       "      <th></th>\n",
       "      <th>yt_reel_id</th>\n",
       "      <th>cartoon</th>\n",
       "    </tr>\n",
       "  </thead>\n",
       "  <tbody>\n",
       "    <tr>\n",
       "      <th>0</th>\n",
       "      <td>RBw4j0aMWyM</td>\n",
       "      <td>Бегемотик</td>\n",
       "    </tr>\n",
       "    <tr>\n",
       "      <th>1</th>\n",
       "      <td>5wTfpmlZe5k</td>\n",
       "      <td>Космохомяк</td>\n",
       "    </tr>\n",
       "    <tr>\n",
       "      <th>2</th>\n",
       "      <td>Fd9YA-oDjSo</td>\n",
       "      <td>Улитка</td>\n",
       "    </tr>\n",
       "    <tr>\n",
       "      <th>3</th>\n",
       "      <td>NXCHY_J-5v0</td>\n",
       "      <td>Космохомяк</td>\n",
       "    </tr>\n",
       "    <tr>\n",
       "      <th>4</th>\n",
       "      <td>XM-GRekoYzs</td>\n",
       "      <td>Космохомяк</td>\n",
       "    </tr>\n",
       "  </tbody>\n",
       "</table>\n",
       "</div>"
      ],
      "text/plain": [
       "    yt_reel_id     cartoon\n",
       "0  RBw4j0aMWyM   Бегемотик\n",
       "1  5wTfpmlZe5k  Космохомяк\n",
       "2  Fd9YA-oDjSo      Улитка\n",
       "3  NXCHY_J-5v0  Космохомяк\n",
       "4  XM-GRekoYzs  Космохомяк"
      ]
     },
     "metadata": {},
     "output_type": "display_data"
    }
   ],
   "source": [
    "discover(sample) #формат рабочего решения"
   ]
  },
  {
   "cell_type": "markdown",
   "metadata": {},
   "source": [
    "#### Тестовая выборка"
   ]
  },
  {
   "cell_type": "code",
   "execution_count": 5,
   "metadata": {
    "execution": {
     "iopub.execute_input": "2024-10-31T05:29:55.783002Z",
     "iopub.status.busy": "2024-10-31T05:29:55.782237Z",
     "iopub.status.idle": "2024-10-31T05:29:56.409446Z",
     "shell.execute_reply": "2024-10-31T05:29:56.408420Z",
     "shell.execute_reply.started": "2024-10-31T05:29:55.782950Z"
    }
   },
   "outputs": [
    {
     "name": "stdout",
     "output_type": "stream",
     "text": [
      "<class 'pandas.core.frame.DataFrame'>\n",
      "RangeIndex: 55608 entries, 0 to 55607\n",
      "Data columns (total 15 columns):\n",
      " #   Column           Non-Null Count  Dtype  \n",
      "---  ------           --------------  -----  \n",
      " 0   date             55608 non-null  object \n",
      " 1   reel_name        55605 non-null  object \n",
      " 2   yt_reel_id       55608 non-null  object \n",
      " 3   url              55608 non-null  object \n",
      " 4   text             55608 non-null  object \n",
      " 5   seconds          49807 non-null  float64\n",
      " 6   is_shorts        49807 non-null  float64\n",
      " 7   broadcast        49807 non-null  object \n",
      " 8   yt_channel_id    55584 non-null  object \n",
      " 9   yt_channel_name  55580 non-null  object \n",
      " 10  yt_ch_url        55580 non-null  object \n",
      " 11  yt_channel_type  55580 non-null  object \n",
      " 12  flag_closed      55580 non-null  float64\n",
      " 13  international    55580 non-null  float64\n",
      " 14  language         337 non-null    object \n",
      "dtypes: float64(4), object(11)\n",
      "memory usage: 6.4+ MB\n"
     ]
    },
    {
     "data": {
      "text/plain": [
       "None"
      ]
     },
     "metadata": {},
     "output_type": "display_data"
    },
    {
     "data": {
      "text/plain": [
       "'Размер данных:(55608, 15)'"
      ]
     },
     "metadata": {},
     "output_type": "display_data"
    },
    {
     "data": {
      "text/plain": [
       "'Количество пропусков:date                   0\\nreel_name              3\\nyt_reel_id             0\\nurl                    0\\ntext                   0\\nseconds             5801\\nis_shorts           5801\\nbroadcast           5801\\nyt_channel_id         24\\nyt_channel_name       28\\nyt_ch_url             28\\nyt_channel_type       28\\nflag_closed           28\\ninternational         28\\nlanguage           55271\\ndtype: int64'"
      ]
     },
     "metadata": {},
     "output_type": "display_data"
    },
    {
     "data": {
      "text/plain": [
       "'Количество дубликатов:0'"
      ]
     },
     "metadata": {},
     "output_type": "display_data"
    },
    {
     "data": {
      "text/html": [
       "<div>\n",
       "<style scoped>\n",
       "    .dataframe tbody tr th:only-of-type {\n",
       "        vertical-align: middle;\n",
       "    }\n",
       "\n",
       "    .dataframe tbody tr th {\n",
       "        vertical-align: top;\n",
       "    }\n",
       "\n",
       "    .dataframe thead th {\n",
       "        text-align: right;\n",
       "    }\n",
       "</style>\n",
       "<table border=\"1\" class=\"dataframe\">\n",
       "  <thead>\n",
       "    <tr style=\"text-align: right;\">\n",
       "      <th></th>\n",
       "      <th>date</th>\n",
       "      <th>reel_name</th>\n",
       "      <th>yt_reel_id</th>\n",
       "      <th>url</th>\n",
       "      <th>text</th>\n",
       "      <th>seconds</th>\n",
       "      <th>is_shorts</th>\n",
       "      <th>broadcast</th>\n",
       "      <th>yt_channel_id</th>\n",
       "      <th>yt_channel_name</th>\n",
       "      <th>yt_ch_url</th>\n",
       "      <th>yt_channel_type</th>\n",
       "      <th>flag_closed</th>\n",
       "      <th>international</th>\n",
       "      <th>language</th>\n",
       "    </tr>\n",
       "  </thead>\n",
       "  <tbody>\n",
       "    <tr>\n",
       "      <th>0</th>\n",
       "      <td>2020-10-26</td>\n",
       "      <td>пять маленьких монстров  хэллоуин рифмы  потеш...</td>\n",
       "      <td>RBw4j0aMWyM</td>\n",
       "      <td>https://www.youtube.com/watch?v=RBw4j0aMWyM</td>\n",
       "      <td>[пять маленьких монстров  хэллоуин рифмы  поте...</td>\n",
       "      <td>960.0</td>\n",
       "      <td>0.0</td>\n",
       "      <td>none</td>\n",
       "      <td>UCfeljpDR__qqp-lLBJdiQkw</td>\n",
       "      <td>Kids Tv Russia песенки для дете</td>\n",
       "      <td>https://youtube.com/channel/UCfeljpDR__qqp-lLB...</td>\n",
       "      <td>Детские</td>\n",
       "      <td>0.0</td>\n",
       "      <td>0.0</td>\n",
       "      <td>NaN</td>\n",
       "    </tr>\n",
       "    <tr>\n",
       "      <th>1</th>\n",
       "      <td>2024-03-24</td>\n",
       "      <td>Tractor mini Bulldozer to making concrete road...</td>\n",
       "      <td>5wTfpmlZe5k</td>\n",
       "      <td>https://www.youtube.com/watch?v=5wTfpmlZe5k</td>\n",
       "      <td>[Tractor mini Bulldozer to making concrete roa...</td>\n",
       "      <td>0.0</td>\n",
       "      <td>0.0</td>\n",
       "      <td>live</td>\n",
       "      <td>UCIDMp2rLX4G5C6eiypl9SFA</td>\n",
       "      <td>OneDayAlex</td>\n",
       "      <td>https://www.youtube.com/channel/UCIDMp2rLX4G5C...</td>\n",
       "      <td>Блогеры</td>\n",
       "      <td>0.0</td>\n",
       "      <td>0.0</td>\n",
       "      <td>NaN</td>\n",
       "    </tr>\n",
       "    <tr>\n",
       "      <th>2</th>\n",
       "      <td>2020-06-28</td>\n",
       "      <td>Кто Последний ПЕРЕСТАНЕТ Ехать Выиграл  Челлендж</td>\n",
       "      <td>Fd9YA-oDjSo</td>\n",
       "      <td>https://www.youtube.com/watch?v=Fd9YA-oDjSo</td>\n",
       "      <td>[Кто Последний ПЕРЕСТАНЕТ Ехать Выиграл  Челле...</td>\n",
       "      <td>1599.0</td>\n",
       "      <td>0.0</td>\n",
       "      <td>none</td>\n",
       "      <td>UC2tsySbe9TNrI-xh2lximHA</td>\n",
       "      <td>A4</td>\n",
       "      <td>https://youtube.com/channel/UC2tsySbe9TNrI-xh2...</td>\n",
       "      <td>Блогеры</td>\n",
       "      <td>0.0</td>\n",
       "      <td>0.0</td>\n",
       "      <td>NaN</td>\n",
       "    </tr>\n",
       "    <tr>\n",
       "      <th>3</th>\n",
       "      <td>2018-07-27</td>\n",
       "      <td>Мультики про машинки и паровозики для детей. Р...</td>\n",
       "      <td>NXCHY_J-5v0</td>\n",
       "      <td>https://www.youtube.com/watch?v=NXCHY_J-5v0</td>\n",
       "      <td>[Мультики про машинки и паровозики для детей. ...</td>\n",
       "      <td>467.0</td>\n",
       "      <td>0.0</td>\n",
       "      <td>none</td>\n",
       "      <td>UC_J_9-qRfVtKIkq7SxxVbhQ</td>\n",
       "      <td>ТВ Деткам</td>\n",
       "      <td>https://youtube.com/channel/UC_J_9-qRfVtKIkq7S...</td>\n",
       "      <td>Детские</td>\n",
       "      <td>0.0</td>\n",
       "      <td>0.0</td>\n",
       "      <td>NaN</td>\n",
       "    </tr>\n",
       "    <tr>\n",
       "      <th>4</th>\n",
       "      <td>2021-04-03</td>\n",
       "      <td>СЛИШКОМ МАЛЕНЬКИЙ ПОРТАЛ В ЭНД В МАЙНКРАФТ ТОЛ...</td>\n",
       "      <td>XM-GRekoYzs</td>\n",
       "      <td>https://www.youtube.com/watch?v=XM-GRekoYzs</td>\n",
       "      <td>[СЛИШКОМ МАЛЕНЬКИЙ ПОРТАЛ В ЭНД В МАЙНКРАФТ ТО...</td>\n",
       "      <td>364.0</td>\n",
       "      <td>0.0</td>\n",
       "      <td>none</td>\n",
       "      <td>UCSmqZkD74x3TLt6eRM5GhTg</td>\n",
       "      <td>Dargas</td>\n",
       "      <td>https://youtube.com/channel/UCSmqZkD74x3TLt6eR...</td>\n",
       "      <td>Блогеры</td>\n",
       "      <td>0.0</td>\n",
       "      <td>0.0</td>\n",
       "      <td>NaN</td>\n",
       "    </tr>\n",
       "  </tbody>\n",
       "</table>\n",
       "</div>"
      ],
      "text/plain": [
       "         date                                          reel_name   yt_reel_id  \\\n",
       "0  2020-10-26  пять маленьких монстров  хэллоуин рифмы  потеш...  RBw4j0aMWyM   \n",
       "1  2024-03-24  Tractor mini Bulldozer to making concrete road...  5wTfpmlZe5k   \n",
       "2  2020-06-28   Кто Последний ПЕРЕСТАНЕТ Ехать Выиграл  Челлендж  Fd9YA-oDjSo   \n",
       "3  2018-07-27  Мультики про машинки и паровозики для детей. Р...  NXCHY_J-5v0   \n",
       "4  2021-04-03  СЛИШКОМ МАЛЕНЬКИЙ ПОРТАЛ В ЭНД В МАЙНКРАФТ ТОЛ...  XM-GRekoYzs   \n",
       "\n",
       "                                           url  \\\n",
       "0  https://www.youtube.com/watch?v=RBw4j0aMWyM   \n",
       "1  https://www.youtube.com/watch?v=5wTfpmlZe5k   \n",
       "2  https://www.youtube.com/watch?v=Fd9YA-oDjSo   \n",
       "3  https://www.youtube.com/watch?v=NXCHY_J-5v0   \n",
       "4  https://www.youtube.com/watch?v=XM-GRekoYzs   \n",
       "\n",
       "                                                text  seconds  is_shorts  \\\n",
       "0  [пять маленьких монстров  хэллоуин рифмы  поте...    960.0        0.0   \n",
       "1  [Tractor mini Bulldozer to making concrete roa...      0.0        0.0   \n",
       "2  [Кто Последний ПЕРЕСТАНЕТ Ехать Выиграл  Челле...   1599.0        0.0   \n",
       "3  [Мультики про машинки и паровозики для детей. ...    467.0        0.0   \n",
       "4  [СЛИШКОМ МАЛЕНЬКИЙ ПОРТАЛ В ЭНД В МАЙНКРАФТ ТО...    364.0        0.0   \n",
       "\n",
       "  broadcast             yt_channel_id                  yt_channel_name  \\\n",
       "0      none  UCfeljpDR__qqp-lLBJdiQkw  Kids Tv Russia песенки для дете   \n",
       "1      live  UCIDMp2rLX4G5C6eiypl9SFA                       OneDayAlex   \n",
       "2      none  UC2tsySbe9TNrI-xh2lximHA                               A4   \n",
       "3      none  UC_J_9-qRfVtKIkq7SxxVbhQ                        ТВ Деткам   \n",
       "4      none  UCSmqZkD74x3TLt6eRM5GhTg                           Dargas   \n",
       "\n",
       "                                           yt_ch_url yt_channel_type  \\\n",
       "0  https://youtube.com/channel/UCfeljpDR__qqp-lLB...         Детские   \n",
       "1  https://www.youtube.com/channel/UCIDMp2rLX4G5C...         Блогеры   \n",
       "2  https://youtube.com/channel/UC2tsySbe9TNrI-xh2...         Блогеры   \n",
       "3  https://youtube.com/channel/UC_J_9-qRfVtKIkq7S...         Детские   \n",
       "4  https://youtube.com/channel/UCSmqZkD74x3TLt6eR...         Блогеры   \n",
       "\n",
       "   flag_closed  international language  \n",
       "0          0.0            0.0      NaN  \n",
       "1          0.0            0.0      NaN  \n",
       "2          0.0            0.0      NaN  \n",
       "3          0.0            0.0      NaN  \n",
       "4          0.0            0.0      NaN  "
      ]
     },
     "metadata": {},
     "output_type": "display_data"
    }
   ],
   "source": [
    "discover(test_data)"
   ]
  },
  {
   "cell_type": "markdown",
   "metadata": {
    "execution": {
     "iopub.execute_input": "2024-10-20T20:46:01.127049Z",
     "iopub.status.busy": "2024-10-20T20:46:01.126680Z",
     "iopub.status.idle": "2024-10-20T20:46:01.130944Z",
     "shell.execute_reply": "2024-10-20T20:46:01.130115Z",
     "shell.execute_reply.started": "2024-10-20T20:46:01.127014Z"
    }
   },
   "source": [
    "#### Тренировочная выборка"
   ]
  },
  {
   "cell_type": "code",
   "execution_count": 6,
   "metadata": {
    "execution": {
     "iopub.execute_input": "2024-10-31T05:29:56.411684Z",
     "iopub.status.busy": "2024-10-31T05:29:56.411322Z",
     "iopub.status.idle": "2024-10-31T05:29:57.379889Z",
     "shell.execute_reply": "2024-10-31T05:29:57.378994Z",
     "shell.execute_reply.started": "2024-10-31T05:29:56.411647Z"
    }
   },
   "outputs": [
    {
     "name": "stdout",
     "output_type": "stream",
     "text": [
      "<class 'pandas.core.frame.DataFrame'>\n",
      "RangeIndex: 83411 entries, 0 to 83410\n",
      "Data columns (total 16 columns):\n",
      " #   Column           Non-Null Count  Dtype  \n",
      "---  ------           --------------  -----  \n",
      " 0   date             83411 non-null  object \n",
      " 1   reel_name        83408 non-null  object \n",
      " 2   yt_reel_id       83411 non-null  object \n",
      " 3   cartoon          83411 non-null  object \n",
      " 4   url              83411 non-null  object \n",
      " 5   text             83411 non-null  object \n",
      " 6   seconds          74653 non-null  float64\n",
      " 7   is_shorts        74653 non-null  float64\n",
      " 8   broadcast        74653 non-null  object \n",
      " 9   yt_channel_id    83366 non-null  object \n",
      " 10  yt_channel_name  83363 non-null  object \n",
      " 11  yt_ch_url        83363 non-null  object \n",
      " 12  yt_channel_type  83363 non-null  object \n",
      " 13  flag_closed      83363 non-null  float64\n",
      " 14  international    83363 non-null  float64\n",
      " 15  language         497 non-null    object \n",
      "dtypes: float64(4), object(12)\n",
      "memory usage: 10.2+ MB\n"
     ]
    },
    {
     "data": {
      "text/plain": [
       "None"
      ]
     },
     "metadata": {},
     "output_type": "display_data"
    },
    {
     "data": {
      "text/plain": [
       "'Размер данных:(83411, 16)'"
      ]
     },
     "metadata": {},
     "output_type": "display_data"
    },
    {
     "data": {
      "text/plain": [
       "'Количество пропусков:date                   0\\nreel_name              3\\nyt_reel_id             0\\ncartoon                0\\nurl                    0\\ntext                   0\\nseconds             8758\\nis_shorts           8758\\nbroadcast           8758\\nyt_channel_id         45\\nyt_channel_name       48\\nyt_ch_url             48\\nyt_channel_type       48\\nflag_closed           48\\ninternational         48\\nlanguage           82914\\ndtype: int64'"
      ]
     },
     "metadata": {},
     "output_type": "display_data"
    },
    {
     "data": {
      "text/plain": [
       "'Количество дубликатов:0'"
      ]
     },
     "metadata": {},
     "output_type": "display_data"
    },
    {
     "data": {
      "text/html": [
       "<div>\n",
       "<style scoped>\n",
       "    .dataframe tbody tr th:only-of-type {\n",
       "        vertical-align: middle;\n",
       "    }\n",
       "\n",
       "    .dataframe tbody tr th {\n",
       "        vertical-align: top;\n",
       "    }\n",
       "\n",
       "    .dataframe thead th {\n",
       "        text-align: right;\n",
       "    }\n",
       "</style>\n",
       "<table border=\"1\" class=\"dataframe\">\n",
       "  <thead>\n",
       "    <tr style=\"text-align: right;\">\n",
       "      <th></th>\n",
       "      <th>date</th>\n",
       "      <th>reel_name</th>\n",
       "      <th>yt_reel_id</th>\n",
       "      <th>cartoon</th>\n",
       "      <th>url</th>\n",
       "      <th>text</th>\n",
       "      <th>seconds</th>\n",
       "      <th>is_shorts</th>\n",
       "      <th>broadcast</th>\n",
       "      <th>yt_channel_id</th>\n",
       "      <th>yt_channel_name</th>\n",
       "      <th>yt_ch_url</th>\n",
       "      <th>yt_channel_type</th>\n",
       "      <th>flag_closed</th>\n",
       "      <th>international</th>\n",
       "      <th>language</th>\n",
       "    </tr>\n",
       "  </thead>\n",
       "  <tbody>\n",
       "    <tr>\n",
       "      <th>0</th>\n",
       "      <td>2023-12-30</td>\n",
       "      <td>100 подарков и только один можно оставить себе</td>\n",
       "      <td>PyGZL_fCbSc</td>\n",
       "      <td>none</td>\n",
       "      <td>https://www.youtube.com/watch?v=PyGZL_fCbSc</td>\n",
       "      <td>[100 подарков и только один можно оставить себе]</td>\n",
       "      <td>1854.0</td>\n",
       "      <td>0.0</td>\n",
       "      <td>none</td>\n",
       "      <td>UCcartHVtvAUzfajflyeT_Gg</td>\n",
       "      <td>Miss Katy</td>\n",
       "      <td>https://www.youtube.com/channel/UCcartHVtvAUzf...</td>\n",
       "      <td>Блогеры</td>\n",
       "      <td>0.0</td>\n",
       "      <td>0.0</td>\n",
       "      <td>NaN</td>\n",
       "    </tr>\n",
       "    <tr>\n",
       "      <th>1</th>\n",
       "      <td>2018-06-29</td>\n",
       "      <td>ЗАБАГАЛИ Лизу в Реальной Жизни АРТУР и НАСТЯ F...</td>\n",
       "      <td>Lcp0pFZF4eQ</td>\n",
       "      <td>none</td>\n",
       "      <td>https://www.youtube.com/watch?v=Lcp0pFZF4eQ</td>\n",
       "      <td>[ЗАБАГАЛИ Лизу в Реальной Жизни АРТУР и НАСТЯ ...</td>\n",
       "      <td>602.0</td>\n",
       "      <td>0.0</td>\n",
       "      <td>none</td>\n",
       "      <td>UCWI7puXzGTPuxsoW2HD3XxQ</td>\n",
       "      <td>Boys and Toys</td>\n",
       "      <td>https://youtube.com/channel/UCWI7puXzGTPuxsoW2...</td>\n",
       "      <td>Блогеры</td>\n",
       "      <td>0.0</td>\n",
       "      <td>0.0</td>\n",
       "      <td>NaN</td>\n",
       "    </tr>\n",
       "    <tr>\n",
       "      <th>2</th>\n",
       "      <td>2023-11-26</td>\n",
       "      <td>Грозная семейка  Лучшие СЕСТРИНСКИЕ моменты  с...</td>\n",
       "      <td>z8d6LbiBRnk</td>\n",
       "      <td>none</td>\n",
       "      <td>https://www.youtube.com/watch?v=z8d6LbiBRnk</td>\n",
       "      <td>[Грозная семейка  Лучшие СЕСТРИНСКИЕ моменты  ...</td>\n",
       "      <td>3604.0</td>\n",
       "      <td>0.0</td>\n",
       "      <td>none</td>\n",
       "      <td>UCw3vK8lNe5SZzL--rMgq-CQ</td>\n",
       "      <td>Nickelodeon_Cyrillic</td>\n",
       "      <td>https://youtube.com/channel/UCw3vK8lNe5SZzL--r...</td>\n",
       "      <td>Мультфильмы</td>\n",
       "      <td>0.0</td>\n",
       "      <td>0.0</td>\n",
       "      <td>NaN</td>\n",
       "    </tr>\n",
       "    <tr>\n",
       "      <th>3</th>\n",
       "      <td>2016-05-30</td>\n",
       "      <td>Как сделать ожерелье из ткани своими руками</td>\n",
       "      <td>0iu0p_Y8DjM</td>\n",
       "      <td>none</td>\n",
       "      <td>https://www.youtube.com/watch?v=0iu0p_Y8DjM</td>\n",
       "      <td>[Как сделать ожерелье из ткани своими руками] ...</td>\n",
       "      <td>264.0</td>\n",
       "      <td>0.0</td>\n",
       "      <td>none</td>\n",
       "      <td>UCq1JpGFxcZTbbOAz010U-og</td>\n",
       "      <td>Трум Трум</td>\n",
       "      <td>https://youtube.com/channel/UCq1JpGFxcZTbbOAz0...</td>\n",
       "      <td>Блогеры</td>\n",
       "      <td>0.0</td>\n",
       "      <td>0.0</td>\n",
       "      <td>NaN</td>\n",
       "    </tr>\n",
       "    <tr>\n",
       "      <th>4</th>\n",
       "      <td>2023-07-06</td>\n",
       "      <td>Sleepover Rules  Om Nom Stories  Cartoon for k...</td>\n",
       "      <td>rYwOVp_Edjw</td>\n",
       "      <td>none</td>\n",
       "      <td>https://www.youtube.com/watch?v=rYwOVp_Edjw</td>\n",
       "      <td>[Sleepover Rules  Om Nom Stories  Cartoon for ...</td>\n",
       "      <td>42899.0</td>\n",
       "      <td>0.0</td>\n",
       "      <td>none</td>\n",
       "      <td>UCniI-BQk7qAtXNmmz40LSdg</td>\n",
       "      <td>Kedoo Toons TV Funny Animations</td>\n",
       "      <td>https://youtube.com/channel/UCniI-BQk7qAtXNmmz...</td>\n",
       "      <td>Мультфильмы</td>\n",
       "      <td>0.0</td>\n",
       "      <td>0.0</td>\n",
       "      <td>NaN</td>\n",
       "    </tr>\n",
       "  </tbody>\n",
       "</table>\n",
       "</div>"
      ],
      "text/plain": [
       "         date                                          reel_name   yt_reel_id  \\\n",
       "0  2023-12-30     100 подарков и только один можно оставить себе  PyGZL_fCbSc   \n",
       "1  2018-06-29  ЗАБАГАЛИ Лизу в Реальной Жизни АРТУР и НАСТЯ F...  Lcp0pFZF4eQ   \n",
       "2  2023-11-26  Грозная семейка  Лучшие СЕСТРИНСКИЕ моменты  с...  z8d6LbiBRnk   \n",
       "3  2016-05-30        Как сделать ожерелье из ткани своими руками  0iu0p_Y8DjM   \n",
       "4  2023-07-06  Sleepover Rules  Om Nom Stories  Cartoon for k...  rYwOVp_Edjw   \n",
       "\n",
       "  cartoon                                          url  \\\n",
       "0    none  https://www.youtube.com/watch?v=PyGZL_fCbSc   \n",
       "1    none  https://www.youtube.com/watch?v=Lcp0pFZF4eQ   \n",
       "2    none  https://www.youtube.com/watch?v=z8d6LbiBRnk   \n",
       "3    none  https://www.youtube.com/watch?v=0iu0p_Y8DjM   \n",
       "4    none  https://www.youtube.com/watch?v=rYwOVp_Edjw   \n",
       "\n",
       "                                                text  seconds  is_shorts  \\\n",
       "0  [100 подарков и только один можно оставить себе]    1854.0        0.0   \n",
       "1  [ЗАБАГАЛИ Лизу в Реальной Жизни АРТУР и НАСТЯ ...    602.0        0.0   \n",
       "2  [Грозная семейка  Лучшие СЕСТРИНСКИЕ моменты  ...   3604.0        0.0   \n",
       "3  [Как сделать ожерелье из ткани своими руками] ...    264.0        0.0   \n",
       "4  [Sleepover Rules  Om Nom Stories  Cartoon for ...  42899.0        0.0   \n",
       "\n",
       "  broadcast             yt_channel_id                  yt_channel_name  \\\n",
       "0      none  UCcartHVtvAUzfajflyeT_Gg                        Miss Katy   \n",
       "1      none  UCWI7puXzGTPuxsoW2HD3XxQ                    Boys and Toys   \n",
       "2      none  UCw3vK8lNe5SZzL--rMgq-CQ             Nickelodeon_Cyrillic   \n",
       "3      none  UCq1JpGFxcZTbbOAz010U-og                        Трум Трум   \n",
       "4      none  UCniI-BQk7qAtXNmmz40LSdg  Kedoo Toons TV Funny Animations   \n",
       "\n",
       "                                           yt_ch_url yt_channel_type  \\\n",
       "0  https://www.youtube.com/channel/UCcartHVtvAUzf...         Блогеры   \n",
       "1  https://youtube.com/channel/UCWI7puXzGTPuxsoW2...         Блогеры   \n",
       "2  https://youtube.com/channel/UCw3vK8lNe5SZzL--r...     Мультфильмы   \n",
       "3  https://youtube.com/channel/UCq1JpGFxcZTbbOAz0...         Блогеры   \n",
       "4  https://youtube.com/channel/UCniI-BQk7qAtXNmmz...     Мультфильмы   \n",
       "\n",
       "   flag_closed  international language  \n",
       "0          0.0            0.0      NaN  \n",
       "1          0.0            0.0      NaN  \n",
       "2          0.0            0.0      NaN  \n",
       "3          0.0            0.0      NaN  \n",
       "4          0.0            0.0      NaN  "
      ]
     },
     "metadata": {},
     "output_type": "display_data"
    }
   ],
   "source": [
    "discover(data)"
   ]
  },
  {
   "cell_type": "code",
   "execution_count": 7,
   "metadata": {
    "execution": {
     "iopub.execute_input": "2024-10-31T05:29:57.381815Z",
     "iopub.status.busy": "2024-10-31T05:29:57.381375Z",
     "iopub.status.idle": "2024-10-31T05:29:57.484672Z",
     "shell.execute_reply": "2024-10-31T05:29:57.483535Z",
     "shell.execute_reply.started": "2024-10-31T05:29:57.381767Z"
    }
   },
   "outputs": [
    {
     "data": {
      "text/plain": [
       "date                   0\n",
       "reel_name              3\n",
       "yt_reel_id             0\n",
       "cartoon                0\n",
       "url                    0\n",
       "text                   0\n",
       "seconds             8758\n",
       "is_shorts           8758\n",
       "broadcast           8758\n",
       "yt_channel_id         45\n",
       "yt_channel_name       48\n",
       "yt_ch_url             48\n",
       "yt_channel_type       48\n",
       "flag_closed           48\n",
       "international         48\n",
       "language           82914\n",
       "dtype: int64"
      ]
     },
     "execution_count": 7,
     "metadata": {},
     "output_type": "execute_result"
    }
   ],
   "source": [
    "data.isna().sum() #количество пропусков"
   ]
  },
  {
   "cell_type": "code",
   "execution_count": 8,
   "metadata": {
    "execution": {
     "iopub.execute_input": "2024-10-31T05:29:57.486431Z",
     "iopub.status.busy": "2024-10-31T05:29:57.486096Z",
     "iopub.status.idle": "2024-10-31T05:29:57.508673Z",
     "shell.execute_reply": "2024-10-31T05:29:57.507470Z",
     "shell.execute_reply.started": "2024-10-31T05:29:57.486398Z"
    }
   },
   "outputs": [
    {
     "data": {
      "text/plain": [
       "cartoon\n",
       "none                          78231\n",
       "Маша и медведь                  853\n",
       "Говорящий Том                   589\n",
       "Буба                            529\n",
       "Кошечки собачки                 437\n",
       "Енотки                          379\n",
       "Бэтмен                          353\n",
       "ЖилаБыла Царевна                229\n",
       "Оранжевая корова                227\n",
       "Зебра в клеточку                188\n",
       "Фиксики                         151\n",
       "Чик-Чирикино                    137\n",
       "Сумка                           134\n",
       "Черепашки Ниндзя                104\n",
       "Чуддики                          86\n",
       "My little pony                   81\n",
       "Свинка Пеппа                     69\n",
       "Синий трактор                    67\n",
       "Чучело-Мяучело                   64\n",
       "Малышарики                       60\n",
       "Пороро                           51\n",
       "Смешарики                        41\n",
       "Приключения Пети и Волка         41\n",
       "Трансформеры                     40\n",
       "Простоквашино                    35\n",
       "Щенячий патруль                  32\n",
       "Царевны                          32\n",
       "Cry babies magic tears           22\n",
       "Крутиксы                         22\n",
       "Кукутики                         17\n",
       "Акуленок                         11\n",
       "Симпсоны                         10\n",
       "Губка Боб                        10\n",
       "Лунтик                           10\n",
       "Мини-мишки                        8\n",
       "Финник                            8\n",
       "Чебурашка                         8\n",
       "Ну_погоди каникулы                7\n",
       "Барбоскины                        7\n",
       "Цветняшки                         6\n",
       "Котик Мормотик                    6\n",
       "Паровозики Чаттингтон             6\n",
       "Бременские музыканты              6\n",
       "Enchantimals (Эншантималс)        4\n",
       "Вспыш                             3\n",
       "Name: count, dtype: int64"
      ]
     },
     "execution_count": 8,
     "metadata": {},
     "output_type": "execute_result"
    }
   ],
   "source": [
    "data['cartoon'].value_counts() #названия мультфильмов"
   ]
  },
  {
   "cell_type": "code",
   "execution_count": 9,
   "metadata": {
    "execution": {
     "iopub.execute_input": "2024-10-31T05:29:57.510601Z",
     "iopub.status.busy": "2024-10-31T05:29:57.510141Z",
     "iopub.status.idle": "2024-10-31T05:29:57.524697Z",
     "shell.execute_reply": "2024-10-31T05:29:57.523689Z",
     "shell.execute_reply.started": "2024-10-31T05:29:57.510553Z"
    }
   },
   "outputs": [
    {
     "data": {
      "text/plain": [
       "45"
      ]
     },
     "execution_count": 9,
     "metadata": {},
     "output_type": "execute_result"
    }
   ],
   "source": [
    "data['cartoon'].nunique() #количество проектов 44 + none"
   ]
  },
  {
   "cell_type": "code",
   "execution_count": 10,
   "metadata": {
    "execution": {
     "iopub.execute_input": "2024-10-31T05:29:57.528826Z",
     "iopub.status.busy": "2024-10-31T05:29:57.528459Z",
     "iopub.status.idle": "2024-10-31T05:29:57.539824Z",
     "shell.execute_reply": "2024-10-31T05:29:57.538771Z",
     "shell.execute_reply.started": "2024-10-31T05:29:57.528789Z"
    }
   },
   "outputs": [
    {
     "data": {
      "text/plain": [
       "language\n",
       "english    204\n",
       "spanish    201\n",
       "arabic      92\n",
       "Name: count, dtype: int64"
      ]
     },
     "execution_count": 10,
     "metadata": {},
     "output_type": "execute_result"
    }
   ],
   "source": [
    "data['language'].value_counts() #языки"
   ]
  },
  {
   "cell_type": "markdown",
   "metadata": {},
   "source": [
    "-----"
   ]
  },
  {
   "cell_type": "markdown",
   "metadata": {},
   "source": [
    "### Преобразование и подготовка данных"
   ]
  },
  {
   "cell_type": "code",
   "execution_count": 11,
   "metadata": {
    "execution": {
     "iopub.execute_input": "2024-10-31T05:29:57.542170Z",
     "iopub.status.busy": "2024-10-31T05:29:57.541241Z",
     "iopub.status.idle": "2024-10-31T05:29:57.561188Z",
     "shell.execute_reply": "2024-10-31T05:29:57.560219Z",
     "shell.execute_reply.started": "2024-10-31T05:29:57.542137Z"
    }
   },
   "outputs": [],
   "source": [
    "# Заполним пропуски в названии ролика\n",
    "data['reel_name'] = data['reel_name'].fillna(' ')"
   ]
  },
  {
   "cell_type": "code",
   "execution_count": 12,
   "metadata": {
    "execution": {
     "iopub.execute_input": "2024-10-31T05:29:57.562827Z",
     "iopub.status.busy": "2024-10-31T05:29:57.562466Z",
     "iopub.status.idle": "2024-10-31T05:29:57.588721Z",
     "shell.execute_reply": "2024-10-31T05:29:57.587730Z",
     "shell.execute_reply.started": "2024-10-31T05:29:57.562785Z"
    }
   },
   "outputs": [],
   "source": [
    "# Кодирование целевой переменной\n",
    "label_encoder = LabelEncoder()\n",
    "data['cartoon'] = label_encoder.fit_transform(data['cartoon'])"
   ]
  },
  {
   "cell_type": "code",
   "execution_count": 13,
   "metadata": {
    "execution": {
     "iopub.execute_input": "2024-10-31T05:29:57.590328Z",
     "iopub.status.busy": "2024-10-31T05:29:57.590012Z",
     "iopub.status.idle": "2024-10-31T05:29:57.596272Z",
     "shell.execute_reply": "2024-10-31T05:29:57.595426Z",
     "shell.execute_reply.started": "2024-10-31T05:29:57.590296Z"
    }
   },
   "outputs": [],
   "source": [
    "features = data['reel_name']\n",
    "target = data['cartoon']"
   ]
  },
  {
   "cell_type": "code",
   "execution_count": 14,
   "metadata": {
    "execution": {
     "iopub.execute_input": "2024-10-31T05:29:57.597851Z",
     "iopub.status.busy": "2024-10-31T05:29:57.597473Z",
     "iopub.status.idle": "2024-10-31T05:29:57.619328Z",
     "shell.execute_reply": "2024-10-31T05:29:57.618540Z",
     "shell.execute_reply.started": "2024-10-31T05:29:57.597818Z"
    }
   },
   "outputs": [],
   "source": [
    "# Разделение на обучающую и валидационную выборки\n",
    "train_texts, val_texts, train_labels, val_labels = train_test_split(features, target, test_size=0.2, random_state=42)"
   ]
  },
  {
   "cell_type": "code",
   "execution_count": 15,
   "metadata": {
    "execution": {
     "iopub.execute_input": "2024-10-31T05:29:57.620875Z",
     "iopub.status.busy": "2024-10-31T05:29:57.620501Z",
     "iopub.status.idle": "2024-10-31T05:29:58.942331Z",
     "shell.execute_reply": "2024-10-31T05:29:58.941556Z",
     "shell.execute_reply.started": "2024-10-31T05:29:57.620839Z"
    }
   },
   "outputs": [
    {
     "data": {
      "application/vnd.jupyter.widget-view+json": {
       "model_id": "63e595ac514a4acd9685af7e9856cde7",
       "version_major": 2,
       "version_minor": 0
      },
      "text/plain": [
       "tokenizer_config.json:   0%|          | 0.00/49.0 [00:00<?, ?B/s]"
      ]
     },
     "metadata": {},
     "output_type": "display_data"
    },
    {
     "data": {
      "application/vnd.jupyter.widget-view+json": {
       "model_id": "1b0fee2394c640f4b2a5b94191ff7b1f",
       "version_major": 2,
       "version_minor": 0
      },
      "text/plain": [
       "vocab.txt:   0%|          | 0.00/996k [00:00<?, ?B/s]"
      ]
     },
     "metadata": {},
     "output_type": "display_data"
    },
    {
     "data": {
      "application/vnd.jupyter.widget-view+json": {
       "model_id": "0afa7d60ad604190a5a1e5de9ff79b78",
       "version_major": 2,
       "version_minor": 0
      },
      "text/plain": [
       "tokenizer.json:   0%|          | 0.00/1.96M [00:00<?, ?B/s]"
      ]
     },
     "metadata": {},
     "output_type": "display_data"
    },
    {
     "data": {
      "application/vnd.jupyter.widget-view+json": {
       "model_id": "017788b615964b4e828656fb89fab144",
       "version_major": 2,
       "version_minor": 0
      },
      "text/plain": [
       "config.json:   0%|          | 0.00/466 [00:00<?, ?B/s]"
      ]
     },
     "metadata": {},
     "output_type": "display_data"
    }
   ],
   "source": [
    "# Загрузка токенизатора\n",
    "tokenizer = DistilBertTokenizer.from_pretrained(\"distilbert-base-multilingual-cased\")"
   ]
  },
  {
   "cell_type": "code",
   "execution_count": 16,
   "metadata": {
    "execution": {
     "iopub.execute_input": "2024-10-31T05:29:58.944220Z",
     "iopub.status.busy": "2024-10-31T05:29:58.943837Z",
     "iopub.status.idle": "2024-10-31T05:29:58.951884Z",
     "shell.execute_reply": "2024-10-31T05:29:58.950955Z",
     "shell.execute_reply.started": "2024-10-31T05:29:58.944177Z"
    }
   },
   "outputs": [],
   "source": [
    "# Создание собственного Dataset класса\n",
    "class CartoonDataset(Dataset):\n",
    "    def __init__(self, texts, labels, tokenizer, max_len=256):\n",
    "        self.texts = texts\n",
    "        self.labels = labels\n",
    "        self.tokenizer = tokenizer\n",
    "        self.max_len = max_len\n",
    "\n",
    "    def __len__(self):\n",
    "        return len(self.texts)\n",
    "\n",
    "    def __getitem__(self, item):\n",
    "        text = str(self.texts.iloc[item])\n",
    "        label = self.labels.iloc[item]\n",
    "\n",
    "        encoding = self.tokenizer(\n",
    "            text,\n",
    "            truncation=True,\n",
    "            padding='max_length',\n",
    "            max_length=self.max_len,\n",
    "            return_tensors='pt'\n",
    "        )\n",
    "\n",
    "        return {\n",
    "            'input_ids': encoding['input_ids'].flatten(),\n",
    "            'attention_mask': encoding['attention_mask'].flatten(),\n",
    "            'labels': torch.tensor(label, dtype=torch.long)\n",
    "        }"
   ]
  },
  {
   "cell_type": "code",
   "execution_count": 17,
   "metadata": {
    "execution": {
     "iopub.execute_input": "2024-10-31T05:29:58.953597Z",
     "iopub.status.busy": "2024-10-31T05:29:58.953202Z",
     "iopub.status.idle": "2024-10-31T05:29:58.965714Z",
     "shell.execute_reply": "2024-10-31T05:29:58.964873Z",
     "shell.execute_reply.started": "2024-10-31T05:29:58.953553Z"
    }
   },
   "outputs": [],
   "source": [
    "# Создание объектов Dataset для обучающей и валидационной выборок\n",
    "train_dataset = CartoonDataset(train_texts, train_labels, tokenizer)\n",
    "val_dataset = CartoonDataset(val_texts, val_labels, tokenizer)"
   ]
  },
  {
   "cell_type": "code",
   "execution_count": 18,
   "metadata": {
    "execution": {
     "iopub.execute_input": "2024-10-31T05:29:58.967108Z",
     "iopub.status.busy": "2024-10-31T05:29:58.966802Z",
     "iopub.status.idle": "2024-10-31T05:30:01.999375Z",
     "shell.execute_reply": "2024-10-31T05:30:01.998668Z",
     "shell.execute_reply.started": "2024-10-31T05:29:58.967078Z"
    }
   },
   "outputs": [
    {
     "data": {
      "application/vnd.jupyter.widget-view+json": {
       "model_id": "2446a824e4994c0aaf80823b24c47f64",
       "version_major": 2,
       "version_minor": 0
      },
      "text/plain": [
       "model.safetensors:   0%|          | 0.00/542M [00:00<?, ?B/s]"
      ]
     },
     "metadata": {},
     "output_type": "display_data"
    },
    {
     "name": "stderr",
     "output_type": "stream",
     "text": [
      "Some weights of DistilBertForSequenceClassification were not initialized from the model checkpoint at distilbert-base-multilingual-cased and are newly initialized: ['classifier.bias', 'classifier.weight', 'pre_classifier.bias', 'pre_classifier.weight']\n",
      "You should probably TRAIN this model on a down-stream task to be able to use it for predictions and inference.\n"
     ]
    }
   ],
   "source": [
    "# Загрузка модели DistilBERT для задачи классификации\n",
    "model = DistilBertForSequenceClassification.from_pretrained('distilbert-base-multilingual-cased', num_labels=len(label_encoder.classes_))"
   ]
  },
  {
   "cell_type": "code",
   "execution_count": 19,
   "metadata": {
    "execution": {
     "iopub.execute_input": "2024-10-31T05:30:02.001405Z",
     "iopub.status.busy": "2024-10-31T05:30:02.000734Z",
     "iopub.status.idle": "2024-10-31T05:30:02.123765Z",
     "shell.execute_reply": "2024-10-31T05:30:02.122885Z",
     "shell.execute_reply.started": "2024-10-31T05:30:02.001359Z"
    }
   },
   "outputs": [],
   "source": [
    "# Параметры обучения\n",
    "training_args = TrainingArguments(\n",
    "    output_dir='./results',\n",
    "    evaluation_strategy='epoch',\n",
    "    learning_rate=3e-5,\n",
    "    per_device_train_batch_size=32,\n",
    "    per_device_eval_batch_size=32,\n",
    "    num_train_epochs=5,\n",
    "    weight_decay=0.01,\n",
    "    logging_dir='./logs',\n",
    ")\n"
   ]
  },
  {
   "cell_type": "code",
   "execution_count": 20,
   "metadata": {
    "execution": {
     "iopub.execute_input": "2024-10-31T05:30:02.125331Z",
     "iopub.status.busy": "2024-10-31T05:30:02.125004Z",
     "iopub.status.idle": "2024-10-31T05:30:03.562214Z",
     "shell.execute_reply": "2024-10-31T05:30:03.561451Z",
     "shell.execute_reply.started": "2024-10-31T05:30:02.125297Z"
    }
   },
   "outputs": [],
   "source": [
    "# Создание Trainer для обучения модели\n",
    "trainer = Trainer(\n",
    "    model=model,\n",
    "    args=training_args,\n",
    "    train_dataset=train_dataset,\n",
    "    eval_dataset=val_dataset\n",
    ")"
   ]
  },
  {
   "cell_type": "code",
   "execution_count": 21,
   "metadata": {
    "execution": {
     "iopub.execute_input": "2024-10-31T05:30:03.563834Z",
     "iopub.status.busy": "2024-10-31T05:30:03.563429Z",
     "iopub.status.idle": "2024-10-31T06:48:19.458614Z",
     "shell.execute_reply": "2024-10-31T06:48:19.457750Z",
     "shell.execute_reply.started": "2024-10-31T05:30:03.563791Z"
    }
   },
   "outputs": [
    {
     "name": "stderr",
     "output_type": "stream",
     "text": [
      "\u001b[34m\u001b[1mwandb\u001b[0m: \u001b[33mWARNING\u001b[0m The `run_name` is currently set to the same value as `TrainingArguments.output_dir`. If this was not intended, please specify a different run name by setting the `TrainingArguments.run_name` parameter.\n",
      "\u001b[34m\u001b[1mwandb\u001b[0m: Using wandb-core as the SDK backend. Please refer to https://wandb.me/wandb-core for more information.\n",
      "\u001b[34m\u001b[1mwandb\u001b[0m: Logging into wandb.ai. (Learn how to deploy a W&B server locally: https://wandb.me/wandb-server)\n",
      "\u001b[34m\u001b[1mwandb\u001b[0m: You can find your API key in your browser here: https://wandb.ai/authorize\n",
      "\u001b[34m\u001b[1mwandb\u001b[0m: Paste an API key from your profile and hit enter, or press ctrl+c to quit:"
     ]
    },
    {
     "name": "stdin",
     "output_type": "stream",
     "text": [
      "  ········································\n"
     ]
    },
    {
     "name": "stderr",
     "output_type": "stream",
     "text": [
      "\u001b[34m\u001b[1mwandb\u001b[0m: Appending key for api.wandb.ai to your netrc file: /root/.netrc\n"
     ]
    },
    {
     "data": {
      "application/vnd.jupyter.widget-view+json": {
       "model_id": "6cf52f24cd764491870a6f9206696000",
       "version_major": 2,
       "version_minor": 0
      },
      "text/plain": [
       "VBox(children=(Label(value='Waiting for wandb.init()...\\r'), FloatProgress(value=0.011113003922222713, max=1.0…"
      ]
     },
     "metadata": {},
     "output_type": "display_data"
    },
    {
     "data": {
      "text/html": [
       "Tracking run with wandb version 0.18.3"
      ],
      "text/plain": [
       "<IPython.core.display.HTML object>"
      ]
     },
     "metadata": {},
     "output_type": "display_data"
    },
    {
     "data": {
      "text/html": [
       "Run data is saved locally in <code>/kaggle/working/wandb/run-20241031_053009-xjs7990s</code>"
      ],
      "text/plain": [
       "<IPython.core.display.HTML object>"
      ]
     },
     "metadata": {},
     "output_type": "display_data"
    },
    {
     "data": {
      "text/html": [
       "Syncing run <strong><a href='https://wandb.ai/eshubina-ds/huggingface/runs/xjs7990s' target=\"_blank\">./results</a></strong> to <a href='https://wandb.ai/eshubina-ds/huggingface' target=\"_blank\">Weights & Biases</a> (<a href='https://wandb.me/run' target=\"_blank\">docs</a>)<br/>"
      ],
      "text/plain": [
       "<IPython.core.display.HTML object>"
      ]
     },
     "metadata": {},
     "output_type": "display_data"
    },
    {
     "data": {
      "text/html": [
       " View project at <a href='https://wandb.ai/eshubina-ds/huggingface' target=\"_blank\">https://wandb.ai/eshubina-ds/huggingface</a>"
      ],
      "text/plain": [
       "<IPython.core.display.HTML object>"
      ]
     },
     "metadata": {},
     "output_type": "display_data"
    },
    {
     "data": {
      "text/html": [
       " View run at <a href='https://wandb.ai/eshubina-ds/huggingface/runs/xjs7990s' target=\"_blank\">https://wandb.ai/eshubina-ds/huggingface/runs/xjs7990s</a>"
      ],
      "text/plain": [
       "<IPython.core.display.HTML object>"
      ]
     },
     "metadata": {},
     "output_type": "display_data"
    },
    {
     "data": {
      "text/html": [
       "\n",
       "    <div>\n",
       "      \n",
       "      <progress value='5215' max='5215' style='width:300px; height:20px; vertical-align: middle;'></progress>\n",
       "      [5215/5215 1:18:04, Epoch 5/5]\n",
       "    </div>\n",
       "    <table border=\"1\" class=\"dataframe\">\n",
       "  <thead>\n",
       " <tr style=\"text-align: left;\">\n",
       "      <th>Epoch</th>\n",
       "      <th>Training Loss</th>\n",
       "      <th>Validation Loss</th>\n",
       "    </tr>\n",
       "  </thead>\n",
       "  <tbody>\n",
       "    <tr>\n",
       "      <td>1</td>\n",
       "      <td>0.065300</td>\n",
       "      <td>0.037988</td>\n",
       "    </tr>\n",
       "    <tr>\n",
       "      <td>2</td>\n",
       "      <td>0.028200</td>\n",
       "      <td>0.020693</td>\n",
       "    </tr>\n",
       "    <tr>\n",
       "      <td>3</td>\n",
       "      <td>0.016900</td>\n",
       "      <td>0.017897</td>\n",
       "    </tr>\n",
       "    <tr>\n",
       "      <td>4</td>\n",
       "      <td>0.008700</td>\n",
       "      <td>0.015413</td>\n",
       "    </tr>\n",
       "    <tr>\n",
       "      <td>5</td>\n",
       "      <td>0.006800</td>\n",
       "      <td>0.014556</td>\n",
       "    </tr>\n",
       "  </tbody>\n",
       "</table><p>"
      ],
      "text/plain": [
       "<IPython.core.display.HTML object>"
      ]
     },
     "metadata": {},
     "output_type": "display_data"
    },
    {
     "data": {
      "text/plain": [
       "TrainOutput(global_step=5215, training_loss=0.04758199653369468, metrics={'train_runtime': 4694.4742, 'train_samples_per_second': 71.071, 'train_steps_per_second': 1.111, 'total_flos': 2.21151573236736e+16, 'train_loss': 0.04758199653369468, 'epoch': 5.0})"
      ]
     },
     "execution_count": 21,
     "metadata": {},
     "output_type": "execute_result"
    }
   ],
   "source": [
    "# Обучение модели на тренировочной выборке\n",
    "trainer.train()"
   ]
  },
  {
   "cell_type": "code",
   "execution_count": 22,
   "metadata": {
    "execution": {
     "iopub.execute_input": "2024-10-31T06:48:19.460103Z",
     "iopub.status.busy": "2024-10-31T06:48:19.459812Z",
     "iopub.status.idle": "2024-10-31T06:50:34.526400Z",
     "shell.execute_reply": "2024-10-31T06:50:34.525396Z",
     "shell.execute_reply.started": "2024-10-31T06:48:19.460072Z"
    }
   },
   "outputs": [],
   "source": [
    "# Получаем предсказания для валидационной выборки\n",
    "val_loader = DataLoader(val_dataset, batch_size=32)\n",
    "model.eval()\n",
    "device = torch.device('cuda' if torch.cuda.is_available() else 'cpu')\n",
    "model.to(device)\n",
    "val_predictions, val_labels_list = [], []\n",
    "with torch.no_grad():\n",
    "    for batch in val_loader:\n",
    "        # Перемещаем входные данные на нужное устройство\n",
    "        inputs = {\n",
    "            'input_ids': batch['input_ids'].to(device),\n",
    "            'attention_mask': batch['attention_mask'].to(device)\n",
    "        }\n",
    "        # Перемещаем метки на нужное устройство\n",
    "        labels = batch['labels'].to(device)\n",
    "\n",
    "        # Получаем предсказания\n",
    "        outputs = model(**inputs)\n",
    "        logits = outputs.logits\n",
    "\n",
    "        # Получаем индексы предсказанных классов\n",
    "        preds = torch.argmax(logits, axis=1)\n",
    "\n",
    "        # Сохраняем предсказания и метки\n",
    "        val_predictions.extend(preds.tolist())\n",
    "        val_labels_list.extend(labels.tolist())"
   ]
  },
  {
   "cell_type": "code",
   "execution_count": 23,
   "metadata": {
    "execution": {
     "iopub.execute_input": "2024-10-31T06:50:34.528144Z",
     "iopub.status.busy": "2024-10-31T06:50:34.527761Z",
     "iopub.status.idle": "2024-10-31T06:50:35.292391Z",
     "shell.execute_reply": "2024-10-31T06:50:35.291302Z",
     "shell.execute_reply.started": "2024-10-31T06:50:34.528102Z"
    }
   },
   "outputs": [
    {
     "name": "stdout",
     "output_type": "stream",
     "text": [
      "                            precision    recall  f1-score   support\n",
      "\n",
      "    Cry babies magic tears       1.00      1.00      1.00         7\n",
      "Enchantimals (Эншантималс)       0.00      0.00      0.00         1\n",
      "            My little pony       1.00      0.94      0.97        18\n",
      "                      none       1.00      1.00      1.00     15654\n",
      "                  Акуленок       1.00      1.00      1.00         2\n",
      "                Барбоскины       1.00      1.00      1.00         1\n",
      "      Бременские музыканты       1.00      1.00      1.00         1\n",
      "                      Буба       1.00      1.00      1.00        97\n",
      "                    Бэтмен       1.00      1.00      1.00        59\n",
      "                     Вспыш       0.00      0.00      0.00         1\n",
      "             Говорящий Том       1.00      1.00      1.00       134\n",
      "                 Губка Боб       1.00      1.00      1.00         3\n",
      "                    Енотки       1.00      1.00      1.00        59\n",
      "          ЖилаБыла Царевна       0.95      0.90      0.93        42\n",
      "          Зебра в клеточку       1.00      0.97      0.99        36\n",
      "           Кошечки собачки       0.99      1.00      0.99        98\n",
      "                  Крутиксы       0.00      0.00      0.00         5\n",
      "                  Кукутики       0.80      1.00      0.89         4\n",
      "                    Лунтик       0.50      0.50      0.50         2\n",
      "                Малышарики       0.87      1.00      0.93        13\n",
      "            Маша и медведь       0.99      0.99      0.99       155\n",
      "                Мини-мишки       1.00      0.50      0.67         2\n",
      "          Оранжевая корова       0.98      1.00      0.99        42\n",
      "     Паровозики Чаттингтон       1.00      1.00      1.00         1\n",
      "                    Пороро       1.00      1.00      1.00        18\n",
      "  Приключения Пети и Волка       0.57      0.86      0.69        14\n",
      "             Простоквашино       0.55      1.00      0.71         6\n",
      "              Свинка Пеппа       0.94      1.00      0.97        17\n",
      "                  Симпсоны       1.00      0.67      0.80         3\n",
      "             Синий трактор       0.95      1.00      0.98        20\n",
      "                 Смешарики       0.89      0.89      0.89         9\n",
      "                     Сумка       1.00      0.97      0.98        29\n",
      "              Трансформеры       0.93      1.00      0.97        14\n",
      "                   Фиксики       1.00      1.00      1.00        25\n",
      "                    Финник       1.00      1.00      1.00         1\n",
      "                   Царевны       0.71      0.71      0.71         7\n",
      "                 Чебурашка       0.00      0.00      0.00         2\n",
      "          Черепашки Ниндзя       1.00      1.00      1.00        18\n",
      "              Чик-Чирикино       1.00      1.00      1.00        31\n",
      "                   Чуддики       1.00      1.00      1.00        15\n",
      "            Чучело-Мяучело       1.00      0.89      0.94         9\n",
      "           Щенячий патруль       1.00      1.00      1.00         8\n",
      "\n",
      "                  accuracy                           1.00     16683\n",
      "                 macro avg       0.85      0.85      0.84     16683\n",
      "              weighted avg       1.00      1.00      1.00     16683\n",
      "\n"
     ]
    }
   ],
   "source": [
    "# Отчет по классификации\n",
    "val_predictions_labels = label_encoder.inverse_transform(val_predictions)\n",
    "val_labels_original = label_encoder.inverse_transform(val_labels_list)\n",
    "print(classification_report(val_labels_original, val_predictions_labels))"
   ]
  },
  {
   "cell_type": "code",
   "execution_count": 24,
   "metadata": {
    "execution": {
     "iopub.execute_input": "2024-10-31T06:50:35.294010Z",
     "iopub.status.busy": "2024-10-31T06:50:35.293662Z",
     "iopub.status.idle": "2024-10-31T06:50:35.471946Z",
     "shell.execute_reply": "2024-10-31T06:50:35.470648Z",
     "shell.execute_reply.started": "2024-10-31T06:50:35.293973Z"
    }
   },
   "outputs": [
    {
     "name": "stdout",
     "output_type": "stream",
     "text": [
      "F1 Score (Macro): 0.8446483945392194\n"
     ]
    }
   ],
   "source": [
    "# Метрика F1 (macro)\n",
    "f1_macro = f1_score(val_labels_original, val_predictions_labels, average='macro')\n",
    "print(f'F1 Score (Macro): {f1_macro}')"
   ]
  },
  {
   "cell_type": "markdown",
   "metadata": {},
   "source": [
    "**Предсказание для тестовой выборки**"
   ]
  },
  {
   "cell_type": "code",
   "execution_count": 25,
   "metadata": {
    "execution": {
     "iopub.execute_input": "2024-10-31T06:50:35.474076Z",
     "iopub.status.busy": "2024-10-31T06:50:35.473341Z",
     "iopub.status.idle": "2024-10-31T06:50:35.481758Z",
     "shell.execute_reply": "2024-10-31T06:50:35.480782Z",
     "shell.execute_reply.started": "2024-10-31T06:50:35.474028Z"
    }
   },
   "outputs": [],
   "source": [
    "# Предсказание для новой выборки\n",
    "class TestDataDataset(Dataset):\n",
    "    def __init__(self, texts, tokenizer, max_len=256):\n",
    "        self.texts = texts\n",
    "        self.tokenizer = tokenizer\n",
    "        self.max_len = max_len\n",
    "\n",
    "    def __len__(self):\n",
    "        return len(self.texts)\n",
    "\n",
    "    def __getitem__(self, item):\n",
    "        text = str(self.texts.iloc[item])\n",
    "\n",
    "        encoding = self.tokenizer(\n",
    "            text,\n",
    "            truncation=True,\n",
    "            padding='max_length',\n",
    "            max_length=self.max_len,\n",
    "            return_tensors='pt'\n",
    "        )\n",
    "\n",
    "        return {\n",
    "            'input_ids': encoding['input_ids'].flatten(),\n",
    "            'attention_mask': encoding['attention_mask'].flatten()\n",
    "        }"
   ]
  },
  {
   "cell_type": "code",
   "execution_count": 26,
   "metadata": {
    "execution": {
     "iopub.execute_input": "2024-10-31T06:50:35.483309Z",
     "iopub.status.busy": "2024-10-31T06:50:35.482979Z",
     "iopub.status.idle": "2024-10-31T06:50:35.501911Z",
     "shell.execute_reply": "2024-10-31T06:50:35.500985Z",
     "shell.execute_reply.started": "2024-10-31T06:50:35.483263Z"
    }
   },
   "outputs": [],
   "source": [
    "test_data['reel_name'] = test_data['reel_name'].fillna(' ')"
   ]
  },
  {
   "cell_type": "code",
   "execution_count": 27,
   "metadata": {
    "execution": {
     "iopub.execute_input": "2024-10-31T06:50:35.503925Z",
     "iopub.status.busy": "2024-10-31T06:50:35.503300Z",
     "iopub.status.idle": "2024-10-31T06:50:35.509080Z",
     "shell.execute_reply": "2024-10-31T06:50:35.508139Z",
     "shell.execute_reply.started": "2024-10-31T06:50:35.503883Z"
    }
   },
   "outputs": [],
   "source": [
    "features_test = test_data['reel_name']"
   ]
  },
  {
   "cell_type": "code",
   "execution_count": 28,
   "metadata": {
    "execution": {
     "iopub.execute_input": "2024-10-31T06:50:35.514666Z",
     "iopub.status.busy": "2024-10-31T06:50:35.514337Z",
     "iopub.status.idle": "2024-10-31T06:50:35.519956Z",
     "shell.execute_reply": "2024-10-31T06:50:35.519125Z",
     "shell.execute_reply.started": "2024-10-31T06:50:35.514630Z"
    }
   },
   "outputs": [],
   "source": [
    "test_data_dataset = TestDataDataset(features_test, tokenizer)\n",
    "test_data_loader = DataLoader(test_data_dataset, batch_size=32)"
   ]
  },
  {
   "cell_type": "code",
   "execution_count": 29,
   "metadata": {
    "execution": {
     "iopub.execute_input": "2024-10-31T06:50:35.521490Z",
     "iopub.status.busy": "2024-10-31T06:50:35.521130Z",
     "iopub.status.idle": "2024-10-31T06:58:04.180024Z",
     "shell.execute_reply": "2024-10-31T06:58:04.179205Z",
     "shell.execute_reply.started": "2024-10-31T06:50:35.521457Z"
    }
   },
   "outputs": [],
   "source": [
    "# Получение предсказаний\n",
    "model.eval()\n",
    "device = torch.device('cuda' if torch.cuda.is_available() else 'cpu')\n",
    "model.to(device)\n",
    "predictions = []\n",
    "with torch.no_grad():\n",
    "    for batch in test_data_loader:\n",
    "        # Перемещение всех тензоров в batch на нужное устройство\n",
    "        batch = {k: v.to(device) for k, v in batch.items() if isinstance(v, torch.Tensor)}\n",
    "\n",
    "        # Подготовка входных данных для модели\n",
    "        inputs = {\n",
    "            'input_ids': batch['input_ids'],\n",
    "            'attention_mask': batch['attention_mask']\n",
    "        }\n",
    "\n",
    "        # Получение предсказаний\n",
    "        outputs = model(**inputs)\n",
    "        logits = outputs.logits\n",
    "        preds = torch.argmax(logits, axis=1)\n",
    "        predictions.extend(preds.tolist())"
   ]
  },
  {
   "cell_type": "code",
   "execution_count": 30,
   "metadata": {
    "execution": {
     "iopub.execute_input": "2024-10-31T06:58:04.181610Z",
     "iopub.status.busy": "2024-10-31T06:58:04.181271Z",
     "iopub.status.idle": "2024-10-31T06:58:04.196439Z",
     "shell.execute_reply": "2024-10-31T06:58:04.195422Z",
     "shell.execute_reply.started": "2024-10-31T06:58:04.181577Z"
    }
   },
   "outputs": [],
   "source": [
    "# Добавление предсказаний к test_data\n",
    "test_data['predicted_cartoon'] = label_encoder.inverse_transform(predictions)"
   ]
  },
  {
   "cell_type": "code",
   "execution_count": 31,
   "metadata": {
    "execution": {
     "iopub.execute_input": "2024-10-31T06:58:04.198874Z",
     "iopub.status.busy": "2024-10-31T06:58:04.197913Z",
     "iopub.status.idle": "2024-10-31T06:58:04.206300Z",
     "shell.execute_reply": "2024-10-31T06:58:04.205345Z",
     "shell.execute_reply.started": "2024-10-31T06:58:04.198824Z"
    }
   },
   "outputs": [],
   "source": [
    "# Создаем новый DataFrame с результатами\n",
    "results = pd.DataFrame({\n",
    "    'yt_reel_id': test_data['yt_reel_id'],\n",
    "    'cartoon': test_data['predicted_cartoon']\n",
    "})"
   ]
  },
  {
   "cell_type": "code",
   "execution_count": 32,
   "metadata": {
    "execution": {
     "iopub.execute_input": "2024-10-31T06:58:04.207827Z",
     "iopub.status.busy": "2024-10-31T06:58:04.207517Z",
     "iopub.status.idle": "2024-10-31T06:58:04.298545Z",
     "shell.execute_reply": "2024-10-31T06:58:04.297553Z",
     "shell.execute_reply.started": "2024-10-31T06:58:04.207797Z"
    }
   },
   "outputs": [],
   "source": [
    "# Сохраняем результаты в CSV файл\n",
    "results.to_csv('predictions_distilbert2.csv', index=False)"
   ]
  },
  {
   "attachments": {
    "98a78d4e-ab49-488e-aa59-0bd17bce8c0c.png": {
     "image/png": "[encoded data removed]"
    }
   },
   "cell_type": "markdown",
   "metadata": {},
   "source": [
    "F1 Score (Macro) на тестовой выборке: 0.82345![test_f1_macro.png](attachment:98a78d4e-ab49-488e-aa59-0bd17bce8c0c.png)"
   ]
  },
  {
   "cell_type": "code",
   "execution_count": 33,
   "metadata": {
    "execution": {
     "iopub.execute_input": "2024-10-31T06:58:04.300599Z",
     "iopub.status.busy": "2024-10-31T06:58:04.299879Z",
     "iopub.status.idle": "2024-10-31T06:58:04.306658Z",
     "shell.execute_reply": "2024-10-31T06:58:04.305562Z",
     "shell.execute_reply.started": "2024-10-31T06:58:04.300552Z"
    }
   },
   "outputs": [],
   "source": [
    "import os\n",
    "os.makedirs('/kaggle/working/models', exist_ok=True)"
   ]
  },
  {
   "cell_type": "code",
   "execution_count": 34,
   "metadata": {
    "execution": {
     "iopub.execute_input": "2024-10-31T06:58:04.308400Z",
     "iopub.status.busy": "2024-10-31T06:58:04.308017Z",
     "iopub.status.idle": "2024-10-31T06:58:05.353303Z",
     "shell.execute_reply": "2024-10-31T06:58:05.352549Z",
     "shell.execute_reply.started": "2024-10-31T06:58:04.308346Z"
    }
   },
   "outputs": [],
   "source": [
    "model_path = '/kaggle/working/models/model_distilbert.pth'\n",
    "torch.save(model.state_dict(), model_path)"
   ]
  }
 ],
 "metadata": {
  "kaggle": {
   "accelerator": "nvidiaTeslaT4",
   "dataSources": [
    {
     "datasetId": 5924761,
     "sourceId": 9691046,
     "sourceType": "datasetVersion"
    }
   ],
   "dockerImageVersionId": 30787,
   "isGpuEnabled": true,
   "isInternetEnabled": true,
   "language": "python",
   "sourceType": "notebook"
  },
  "kernelspec": {
   "display_name": "Python 3 (ipykernel)",
   "language": "python",
   "name": "python3"
  },
  "language_info": {
   "codemirror_mode": {
    "name": "ipython",
    "version": 3
   },
   "file_extension": ".py",
   "mimetype": "text/x-python",
   "name": "python",
   "nbconvert_exporter": "python",
   "pygments_lexer": "ipython3",
   "version": "3.12.4"
  }
 },
 "nbformat": 4,
 "nbformat_minor": 4
}
