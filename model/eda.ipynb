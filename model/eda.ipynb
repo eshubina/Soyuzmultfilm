{
 "cells": [
  {
   "cell_type": "code",
   "execution_count": 1,
   "metadata": {
    "_cell_guid": "b1076dfc-b9ad-4769-8c92-a6c4dae69d19",
    "_uuid": "8f2839f25d086af736a60e9eeb907d3b93b6e0e5",
    "execution": {
     "iopub.execute_input": "2024-10-23T14:02:48.701053Z",
     "iopub.status.busy": "2024-10-23T14:02:48.700207Z",
     "iopub.status.idle": "2024-10-23T14:03:07.934074Z",
     "shell.execute_reply": "2024-10-23T14:03:07.932999Z",
     "shell.execute_reply.started": "2024-10-23T14:02:48.701010Z"
    }
   },
   "outputs": [
    {
     "name": "stdout",
     "output_type": "stream",
     "text": [
      "/kaggle/input/cartoon/sample_submission.csv\n",
      "/kaggle/input/cartoon/train.csv\n",
      "/kaggle/input/cartoon/test.csv\n"
     ]
    }
   ],
   "source": [
    "# This Python 3 environment comes with many helpful analytics libraries installed\n",
    "# It is defined by the kaggle/python Docker image: https://github.com/kaggle/docker-python\n",
    "# For example, here's several helpful packages to load\n",
    "import numpy as np \n",
    "import pandas as pd \n",
    "\n",
    "import os\n",
    "for dirname, _, filenames in os.walk('/kaggle/input'):\n",
    "    for filename in filenames:\n",
    "        print(os.path.join(dirname, filename))\n",
    "        \n",
    "from sklearn.model_selection import train_test_split\n",
    "from sklearn.preprocessing import LabelEncoder\n",
    "from transformers import DistilBertTokenizer, DistilBertForSequenceClassification, Trainer, TrainingArguments\n",
    "import torch\n",
    "from torch.utils.data import Dataset, DataLoader\n",
    "from sklearn.metrics import classification_report, f1_score\n",
    "\n",
    "import warnings\n",
    "# Отключение предупреждений\n",
    "warnings.filterwarnings('ignore')"
   ]
  },
  {
   "cell_type": "markdown",
   "metadata": {},
   "source": [
    "### Классификация анимационных проектов"
   ]
  },
  {
   "cell_type": "markdown",
   "metadata": {},
   "source": [
    "**Определение принадлежности видеороликов к проектам на основе анализа текстового описания, субтитров и другой доступной информации**"
   ]
  },
  {
   "cell_type": "markdown",
   "metadata": {},
   "source": [
    "***Данные***\n",
    "\n",
    "**Основное** \n",
    "- yt_reel_id уникальный идентификатор ролика\n",
    "- cartoon целевая переменная\n",
    "\n",
    "**Файлы**\n",
    "- train.csv - the training set\n",
    "- test.csv - the test set\n",
    "- sample_submission.csv - a sample submission file in the correct format\n",
    "\n",
    "**Колонки**\n",
    "- date дата, когда ролик появился на ютубе\n",
    "- reel_name название ролика\n",
    "- yt_reel_id уникальный идентификатор ролика на ютубе\n",
    "- cartoon название проекта, целевая переменная\n",
    "- url ссылка на ролик (включает идентификатор)\n",
    "- text текст сниппета, включает название ролика и описание\n",
    "- seconds длительность\n",
    "- is_shorts вертикальные видеоролики продолжительностью <60сек\n",
    "- broadcast лайвы, прямые эфиры\n",
    "- yt_channel_id идентификатор ютуб канала\n",
    "- yt_channel_name название ютуб канала\n",
    "- yt_ch_url ссылка на ютуб канал\n",
    "- yt_channel_type тип канала (Мультфильмы, Детские, Блогеры, Shorts…)\n",
    "- flag_closed ютуб канал закрыт, если 1\n",
    "- international метка международных каналов, каналов на иностранном языке (переведенный - контент)\n",
    "- language язык"
   ]
  },
  {
   "cell_type": "markdown",
   "metadata": {},
   "source": [
    "### Загрузка данных"
   ]
  },
  {
   "cell_type": "code",
   "execution_count": 2,
   "metadata": {
    "execution": {
     "iopub.execute_input": "2024-10-23T14:03:07.936531Z",
     "iopub.status.busy": "2024-10-23T14:03:07.935851Z",
     "iopub.status.idle": "2024-10-23T14:03:14.395292Z",
     "shell.execute_reply": "2024-10-23T14:03:14.394261Z",
     "shell.execute_reply.started": "2024-10-23T14:03:07.936492Z"
    }
   },
   "outputs": [],
   "source": [
    "sample = pd.read_csv('/kaggle/input/cartoon/sample_submission.csv')\n",
    "data = pd.read_csv('/kaggle/input/cartoon/train.csv', lineterminator='\\n')\n",
    "test_data = pd.read_csv('/kaggle/input/cartoon/test.csv', lineterminator='\\n')"
   ]
  },
  {
   "cell_type": "markdown",
   "metadata": {},
   "source": [
    "#### Посмотрим датасеты"
   ]
  },
  {
   "cell_type": "code",
   "execution_count": 3,
   "metadata": {
    "execution": {
     "iopub.execute_input": "2024-10-23T14:03:14.397134Z",
     "iopub.status.busy": "2024-10-23T14:03:14.396703Z",
     "iopub.status.idle": "2024-10-23T14:03:14.402519Z",
     "shell.execute_reply": "2024-10-23T14:03:14.401554Z",
     "shell.execute_reply.started": "2024-10-23T14:03:14.397084Z"
    }
   },
   "outputs": [],
   "source": [
    "def discover(data):\n",
    "    display(data.info())\n",
    "    display(f'Размер данных:{data.shape}') \n",
    "    display(f'Количество пропусков:{data.isna().sum()}')\n",
    "    display(f'Количество дубликатов:{data.duplicated().sum()}') \n",
    "    display(data.head())"
   ]
  },
  {
   "cell_type": "code",
   "execution_count": 4,
   "metadata": {
    "execution": {
     "iopub.execute_input": "2024-10-23T14:03:14.405069Z",
     "iopub.status.busy": "2024-10-23T14:03:14.404681Z",
     "iopub.status.idle": "2024-10-23T14:03:14.487798Z",
     "shell.execute_reply": "2024-10-23T14:03:14.486912Z",
     "shell.execute_reply.started": "2024-10-23T14:03:14.405029Z"
    }
   },
   "outputs": [
    {
     "name": "stdout",
     "output_type": "stream",
     "text": [
      "<class 'pandas.core.frame.DataFrame'>\n",
      "RangeIndex: 55608 entries, 0 to 55607\n",
      "Data columns (total 2 columns):\n",
      " #   Column      Non-Null Count  Dtype \n",
      "---  ------      --------------  ----- \n",
      " 0   yt_reel_id  55608 non-null  object\n",
      " 1   cartoon     55608 non-null  object\n",
      "dtypes: object(2)\n",
      "memory usage: 869.0+ KB\n"
     ]
    },
    {
     "data": {
      "text/plain": [
       "None"
      ]
     },
     "metadata": {},
     "output_type": "display_data"
    },
    {
     "data": {
      "text/plain": [
       "'Размер данных:(55608, 2)'"
      ]
     },
     "metadata": {},
     "output_type": "display_data"
    },
    {
     "data": {
      "text/plain": [
       "'Количество пропусков:yt_reel_id    0\\ncartoon       0\\ndtype: int64'"
      ]
     },
     "metadata": {},
     "output_type": "display_data"
    },
    {
     "data": {
      "text/plain": [
       "'Количество дубликатов:0'"
      ]
     },
     "metadata": {},
     "output_type": "display_data"
    },
    {
     "data": {
      "text/html": [
       "<div>\n",
       "<style scoped>\n",
       "    .dataframe tbody tr th:only-of-type {\n",
       "        vertical-align: middle;\n",
       "    }\n",
       "\n",
       "    .dataframe tbody tr th {\n",
       "        vertical-align: top;\n",
       "    }\n",
       "\n",
       "    .dataframe thead th {\n",
       "        text-align: right;\n",
       "    }\n",
       "</style>\n",
       "<table border=\"1\" class=\"dataframe\">\n",
       "  <thead>\n",
       "    <tr style=\"text-align: right;\">\n",
       "      <th></th>\n",
       "      <th>yt_reel_id</th>\n",
       "      <th>cartoon</th>\n",
       "    </tr>\n",
       "  </thead>\n",
       "  <tbody>\n",
       "    <tr>\n",
       "      <th>0</th>\n",
       "      <td>RBw4j0aMWyM</td>\n",
       "      <td>Бегемотик</td>\n",
       "    </tr>\n",
       "    <tr>\n",
       "      <th>1</th>\n",
       "      <td>5wTfpmlZe5k</td>\n",
       "      <td>Космохомяк</td>\n",
       "    </tr>\n",
       "    <tr>\n",
       "      <th>2</th>\n",
       "      <td>Fd9YA-oDjSo</td>\n",
       "      <td>Улитка</td>\n",
       "    </tr>\n",
       "    <tr>\n",
       "      <th>3</th>\n",
       "      <td>NXCHY_J-5v0</td>\n",
       "      <td>Космохомяк</td>\n",
       "    </tr>\n",
       "    <tr>\n",
       "      <th>4</th>\n",
       "      <td>XM-GRekoYzs</td>\n",
       "      <td>Космохомяк</td>\n",
       "    </tr>\n",
       "  </tbody>\n",
       "</table>\n",
       "</div>"
      ],
      "text/plain": [
       "    yt_reel_id     cartoon\n",
       "0  RBw4j0aMWyM   Бегемотик\n",
       "1  5wTfpmlZe5k  Космохомяк\n",
       "2  Fd9YA-oDjSo      Улитка\n",
       "3  NXCHY_J-5v0  Космохомяк\n",
       "4  XM-GRekoYzs  Космохомяк"
      ]
     },
     "metadata": {},
     "output_type": "display_data"
    }
   ],
   "source": [
    "discover(sample) #формат рабочего решения"
   ]
  },
  {
   "cell_type": "markdown",
   "metadata": {},
   "source": [
    "#### Тестовая выборка"
   ]
  },
  {
   "cell_type": "code",
   "execution_count": 5,
   "metadata": {
    "execution": {
     "iopub.execute_input": "2024-10-23T14:03:14.489414Z",
     "iopub.status.busy": "2024-10-23T14:03:14.489010Z",
     "iopub.status.idle": "2024-10-23T14:03:15.087759Z",
     "shell.execute_reply": "2024-10-23T14:03:15.086872Z",
     "shell.execute_reply.started": "2024-10-23T14:03:14.489371Z"
    }
   },
   "outputs": [
    {
     "name": "stdout",
     "output_type": "stream",
     "text": [
      "<class 'pandas.core.frame.DataFrame'>\n",
      "RangeIndex: 55608 entries, 0 to 55607\n",
      "Data columns (total 15 columns):\n",
      " #   Column           Non-Null Count  Dtype  \n",
      "---  ------           --------------  -----  \n",
      " 0   date             55608 non-null  object \n",
      " 1   reel_name        55605 non-null  object \n",
      " 2   yt_reel_id       55608 non-null  object \n",
      " 3   url              55608 non-null  object \n",
      " 4   text             55608 non-null  object \n",
      " 5   seconds          49807 non-null  float64\n",
      " 6   is_shorts        49807 non-null  float64\n",
      " 7   broadcast        49807 non-null  object \n",
      " 8   yt_channel_id    55584 non-null  object \n",
      " 9   yt_channel_name  55580 non-null  object \n",
      " 10  yt_ch_url        55580 non-null  object \n",
      " 11  yt_channel_type  55580 non-null  object \n",
      " 12  flag_closed      55580 non-null  float64\n",
      " 13  international    55580 non-null  float64\n",
      " 14  language         337 non-null    object \n",
      "dtypes: float64(4), object(11)\n",
      "memory usage: 6.4+ MB\n"
     ]
    },
    {
     "data": {
      "text/plain": [
       "None"
      ]
     },
     "metadata": {},
     "output_type": "display_data"
    },
    {
     "data": {
      "text/plain": [
       "'Размер данных:(55608, 15)'"
      ]
     },
     "metadata": {},
     "output_type": "display_data"
    },
    {
     "data": {
      "text/plain": [
       "'Количество пропусков:date                   0\\nreel_name              3\\nyt_reel_id             0\\nurl                    0\\ntext                   0\\nseconds             5801\\nis_shorts           5801\\nbroadcast           5801\\nyt_channel_id         24\\nyt_channel_name       28\\nyt_ch_url             28\\nyt_channel_type       28\\nflag_closed           28\\ninternational         28\\nlanguage           55271\\ndtype: int64'"
      ]
     },
     "metadata": {},
     "output_type": "display_data"
    },
    {
     "data": {
      "text/plain": [
       "'Количество дубликатов:0'"
      ]
     },
     "metadata": {},
     "output_type": "display_data"
    },
    {
     "data": {
      "text/html": [
       "<div>\n",
       "<style scoped>\n",
       "    .dataframe tbody tr th:only-of-type {\n",
       "        vertical-align: middle;\n",
       "    }\n",
       "\n",
       "    .dataframe tbody tr th {\n",
       "        vertical-align: top;\n",
       "    }\n",
       "\n",
       "    .dataframe thead th {\n",
       "        text-align: right;\n",
       "    }\n",
       "</style>\n",
       "<table border=\"1\" class=\"dataframe\">\n",
       "  <thead>\n",
       "    <tr style=\"text-align: right;\">\n",
       "      <th></th>\n",
       "      <th>date</th>\n",
       "      <th>reel_name</th>\n",
       "      <th>yt_reel_id</th>\n",
       "      <th>url</th>\n",
       "      <th>text</th>\n",
       "      <th>seconds</th>\n",
       "      <th>is_shorts</th>\n",
       "      <th>broadcast</th>\n",
       "      <th>yt_channel_id</th>\n",
       "      <th>yt_channel_name</th>\n",
       "      <th>yt_ch_url</th>\n",
       "      <th>yt_channel_type</th>\n",
       "      <th>flag_closed</th>\n",
       "      <th>international</th>\n",
       "      <th>language</th>\n",
       "    </tr>\n",
       "  </thead>\n",
       "  <tbody>\n",
       "    <tr>\n",
       "      <th>0</th>\n",
       "      <td>2020-10-26</td>\n",
       "      <td>пять маленьких монстров  хэллоуин рифмы  потеш...</td>\n",
       "      <td>RBw4j0aMWyM</td>\n",
       "      <td>https://www.youtube.com/watch?v=RBw4j0aMWyM</td>\n",
       "      <td>[пять маленьких монстров  хэллоуин рифмы  поте...</td>\n",
       "      <td>960.0</td>\n",
       "      <td>0.0</td>\n",
       "      <td>none</td>\n",
       "      <td>UCfeljpDR__qqp-lLBJdiQkw</td>\n",
       "      <td>Kids Tv Russia песенки для дете</td>\n",
       "      <td>https://youtube.com/channel/UCfeljpDR__qqp-lLB...</td>\n",
       "      <td>Детские</td>\n",
       "      <td>0.0</td>\n",
       "      <td>0.0</td>\n",
       "      <td>NaN</td>\n",
       "    </tr>\n",
       "    <tr>\n",
       "      <th>1</th>\n",
       "      <td>2024-03-24</td>\n",
       "      <td>Tractor mini Bulldozer to making concrete road...</td>\n",
       "      <td>5wTfpmlZe5k</td>\n",
       "      <td>https://www.youtube.com/watch?v=5wTfpmlZe5k</td>\n",
       "      <td>[Tractor mini Bulldozer to making concrete roa...</td>\n",
       "      <td>0.0</td>\n",
       "      <td>0.0</td>\n",
       "      <td>live</td>\n",
       "      <td>UCIDMp2rLX4G5C6eiypl9SFA</td>\n",
       "      <td>OneDayAlex</td>\n",
       "      <td>https://www.youtube.com/channel/UCIDMp2rLX4G5C...</td>\n",
       "      <td>Блогеры</td>\n",
       "      <td>0.0</td>\n",
       "      <td>0.0</td>\n",
       "      <td>NaN</td>\n",
       "    </tr>\n",
       "    <tr>\n",
       "      <th>2</th>\n",
       "      <td>2020-06-28</td>\n",
       "      <td>Кто Последний ПЕРЕСТАНЕТ Ехать Выиграл  Челлендж</td>\n",
       "      <td>Fd9YA-oDjSo</td>\n",
       "      <td>https://www.youtube.com/watch?v=Fd9YA-oDjSo</td>\n",
       "      <td>[Кто Последний ПЕРЕСТАНЕТ Ехать Выиграл  Челле...</td>\n",
       "      <td>1599.0</td>\n",
       "      <td>0.0</td>\n",
       "      <td>none</td>\n",
       "      <td>UC2tsySbe9TNrI-xh2lximHA</td>\n",
       "      <td>A4</td>\n",
       "      <td>https://youtube.com/channel/UC2tsySbe9TNrI-xh2...</td>\n",
       "      <td>Блогеры</td>\n",
       "      <td>0.0</td>\n",
       "      <td>0.0</td>\n",
       "      <td>NaN</td>\n",
       "    </tr>\n",
       "    <tr>\n",
       "      <th>3</th>\n",
       "      <td>2018-07-27</td>\n",
       "      <td>Мультики про машинки и паровозики для детей. Р...</td>\n",
       "      <td>NXCHY_J-5v0</td>\n",
       "      <td>https://www.youtube.com/watch?v=NXCHY_J-5v0</td>\n",
       "      <td>[Мультики про машинки и паровозики для детей. ...</td>\n",
       "      <td>467.0</td>\n",
       "      <td>0.0</td>\n",
       "      <td>none</td>\n",
       "      <td>UC_J_9-qRfVtKIkq7SxxVbhQ</td>\n",
       "      <td>ТВ Деткам</td>\n",
       "      <td>https://youtube.com/channel/UC_J_9-qRfVtKIkq7S...</td>\n",
       "      <td>Детские</td>\n",
       "      <td>0.0</td>\n",
       "      <td>0.0</td>\n",
       "      <td>NaN</td>\n",
       "    </tr>\n",
       "    <tr>\n",
       "      <th>4</th>\n",
       "      <td>2021-04-03</td>\n",
       "      <td>СЛИШКОМ МАЛЕНЬКИЙ ПОРТАЛ В ЭНД В МАЙНКРАФТ ТОЛ...</td>\n",
       "      <td>XM-GRekoYzs</td>\n",
       "      <td>https://www.youtube.com/watch?v=XM-GRekoYzs</td>\n",
       "      <td>[СЛИШКОМ МАЛЕНЬКИЙ ПОРТАЛ В ЭНД В МАЙНКРАФТ ТО...</td>\n",
       "      <td>364.0</td>\n",
       "      <td>0.0</td>\n",
       "      <td>none</td>\n",
       "      <td>UCSmqZkD74x3TLt6eRM5GhTg</td>\n",
       "      <td>Dargas</td>\n",
       "      <td>https://youtube.com/channel/UCSmqZkD74x3TLt6eR...</td>\n",
       "      <td>Блогеры</td>\n",
       "      <td>0.0</td>\n",
       "      <td>0.0</td>\n",
       "      <td>NaN</td>\n",
       "    </tr>\n",
       "  </tbody>\n",
       "</table>\n",
       "</div>"
      ],
      "text/plain": [
       "         date                                          reel_name   yt_reel_id  \\\n",
       "0  2020-10-26  пять маленьких монстров  хэллоуин рифмы  потеш...  RBw4j0aMWyM   \n",
       "1  2024-03-24  Tractor mini Bulldozer to making concrete road...  5wTfpmlZe5k   \n",
       "2  2020-06-28   Кто Последний ПЕРЕСТАНЕТ Ехать Выиграл  Челлендж  Fd9YA-oDjSo   \n",
       "3  2018-07-27  Мультики про машинки и паровозики для детей. Р...  NXCHY_J-5v0   \n",
       "4  2021-04-03  СЛИШКОМ МАЛЕНЬКИЙ ПОРТАЛ В ЭНД В МАЙНКРАФТ ТОЛ...  XM-GRekoYzs   \n",
       "\n",
       "                                           url  \\\n",
       "0  https://www.youtube.com/watch?v=RBw4j0aMWyM   \n",
       "1  https://www.youtube.com/watch?v=5wTfpmlZe5k   \n",
       "2  https://www.youtube.com/watch?v=Fd9YA-oDjSo   \n",
       "3  https://www.youtube.com/watch?v=NXCHY_J-5v0   \n",
       "4  https://www.youtube.com/watch?v=XM-GRekoYzs   \n",
       "\n",
       "                                                text  seconds  is_shorts  \\\n",
       "0  [пять маленьких монстров  хэллоуин рифмы  поте...    960.0        0.0   \n",
       "1  [Tractor mini Bulldozer to making concrete roa...      0.0        0.0   \n",
       "2  [Кто Последний ПЕРЕСТАНЕТ Ехать Выиграл  Челле...   1599.0        0.0   \n",
       "3  [Мультики про машинки и паровозики для детей. ...    467.0        0.0   \n",
       "4  [СЛИШКОМ МАЛЕНЬКИЙ ПОРТАЛ В ЭНД В МАЙНКРАФТ ТО...    364.0        0.0   \n",
       "\n",
       "  broadcast             yt_channel_id                  yt_channel_name  \\\n",
       "0      none  UCfeljpDR__qqp-lLBJdiQkw  Kids Tv Russia песенки для дете   \n",
       "1      live  UCIDMp2rLX4G5C6eiypl9SFA                       OneDayAlex   \n",
       "2      none  UC2tsySbe9TNrI-xh2lximHA                               A4   \n",
       "3      none  UC_J_9-qRfVtKIkq7SxxVbhQ                        ТВ Деткам   \n",
       "4      none  UCSmqZkD74x3TLt6eRM5GhTg                           Dargas   \n",
       "\n",
       "                                           yt_ch_url yt_channel_type  \\\n",
       "0  https://youtube.com/channel/UCfeljpDR__qqp-lLB...         Детские   \n",
       "1  https://www.youtube.com/channel/UCIDMp2rLX4G5C...         Блогеры   \n",
       "2  https://youtube.com/channel/UC2tsySbe9TNrI-xh2...         Блогеры   \n",
       "3  https://youtube.com/channel/UC_J_9-qRfVtKIkq7S...         Детские   \n",
       "4  https://youtube.com/channel/UCSmqZkD74x3TLt6eR...         Блогеры   \n",
       "\n",
       "   flag_closed  international language  \n",
       "0          0.0            0.0      NaN  \n",
       "1          0.0            0.0      NaN  \n",
       "2          0.0            0.0      NaN  \n",
       "3          0.0            0.0      NaN  \n",
       "4          0.0            0.0      NaN  "
      ]
     },
     "metadata": {},
     "output_type": "display_data"
    }
   ],
   "source": [
    "discover(test_data)"
   ]
  },
  {
   "cell_type": "markdown",
   "metadata": {
    "execution": {
     "iopub.execute_input": "2024-10-20T20:46:01.127049Z",
     "iopub.status.busy": "2024-10-20T20:46:01.126680Z",
     "iopub.status.idle": "2024-10-20T20:46:01.130944Z",
     "shell.execute_reply": "2024-10-20T20:46:01.130115Z",
     "shell.execute_reply.started": "2024-10-20T20:46:01.127014Z"
    }
   },
   "source": [
    "#### Тренировочная выборка"
   ]
  },
  {
   "cell_type": "code",
   "execution_count": 6,
   "metadata": {
    "execution": {
     "iopub.execute_input": "2024-10-23T14:03:15.089420Z",
     "iopub.status.busy": "2024-10-23T14:03:15.089000Z",
     "iopub.status.idle": "2024-10-23T14:03:16.014391Z",
     "shell.execute_reply": "2024-10-23T14:03:16.013398Z",
     "shell.execute_reply.started": "2024-10-23T14:03:15.089373Z"
    }
   },
   "outputs": [
    {
     "name": "stdout",
     "output_type": "stream",
     "text": [
      "<class 'pandas.core.frame.DataFrame'>\n",
      "RangeIndex: 83411 entries, 0 to 83410\n",
      "Data columns (total 16 columns):\n",
      " #   Column           Non-Null Count  Dtype  \n",
      "---  ------           --------------  -----  \n",
      " 0   date             83411 non-null  object \n",
      " 1   reel_name        83408 non-null  object \n",
      " 2   yt_reel_id       83411 non-null  object \n",
      " 3   cartoon          83411 non-null  object \n",
      " 4   url              83411 non-null  object \n",
      " 5   text             83411 non-null  object \n",
      " 6   seconds          74653 non-null  float64\n",
      " 7   is_shorts        74653 non-null  float64\n",
      " 8   broadcast        74653 non-null  object \n",
      " 9   yt_channel_id    83366 non-null  object \n",
      " 10  yt_channel_name  83363 non-null  object \n",
      " 11  yt_ch_url        83363 non-null  object \n",
      " 12  yt_channel_type  83363 non-null  object \n",
      " 13  flag_closed      83363 non-null  float64\n",
      " 14  international    83363 non-null  float64\n",
      " 15  language         497 non-null    object \n",
      "dtypes: float64(4), object(12)\n",
      "memory usage: 10.2+ MB\n"
     ]
    },
    {
     "data": {
      "text/plain": [
       "None"
      ]
     },
     "metadata": {},
     "output_type": "display_data"
    },
    {
     "data": {
      "text/plain": [
       "'Размер данных:(83411, 16)'"
      ]
     },
     "metadata": {},
     "output_type": "display_data"
    },
    {
     "data": {
      "text/plain": [
       "'Количество пропусков:date                   0\\nreel_name              3\\nyt_reel_id             0\\ncartoon                0\\nurl                    0\\ntext                   0\\nseconds             8758\\nis_shorts           8758\\nbroadcast           8758\\nyt_channel_id         45\\nyt_channel_name       48\\nyt_ch_url             48\\nyt_channel_type       48\\nflag_closed           48\\ninternational         48\\nlanguage           82914\\ndtype: int64'"
      ]
     },
     "metadata": {},
     "output_type": "display_data"
    },
    {
     "data": {
      "text/plain": [
       "'Количество дубликатов:0'"
      ]
     },
     "metadata": {},
     "output_type": "display_data"
    },
    {
     "data": {
      "text/html": [
       "<div>\n",
       "<style scoped>\n",
       "    .dataframe tbody tr th:only-of-type {\n",
       "        vertical-align: middle;\n",
       "    }\n",
       "\n",
       "    .dataframe tbody tr th {\n",
       "        vertical-align: top;\n",
       "    }\n",
       "\n",
       "    .dataframe thead th {\n",
       "        text-align: right;\n",
       "    }\n",
       "</style>\n",
       "<table border=\"1\" class=\"dataframe\">\n",
       "  <thead>\n",
       "    <tr style=\"text-align: right;\">\n",
       "      <th></th>\n",
       "      <th>date</th>\n",
       "      <th>reel_name</th>\n",
       "      <th>yt_reel_id</th>\n",
       "      <th>cartoon</th>\n",
       "      <th>url</th>\n",
       "      <th>text</th>\n",
       "      <th>seconds</th>\n",
       "      <th>is_shorts</th>\n",
       "      <th>broadcast</th>\n",
       "      <th>yt_channel_id</th>\n",
       "      <th>yt_channel_name</th>\n",
       "      <th>yt_ch_url</th>\n",
       "      <th>yt_channel_type</th>\n",
       "      <th>flag_closed</th>\n",
       "      <th>international</th>\n",
       "      <th>language</th>\n",
       "    </tr>\n",
       "  </thead>\n",
       "  <tbody>\n",
       "    <tr>\n",
       "      <th>0</th>\n",
       "      <td>2023-12-30</td>\n",
       "      <td>100 подарков и только один можно оставить себе</td>\n",
       "      <td>PyGZL_fCbSc</td>\n",
       "      <td>none</td>\n",
       "      <td>https://www.youtube.com/watch?v=PyGZL_fCbSc</td>\n",
       "      <td>[100 подарков и только один можно оставить себе]</td>\n",
       "      <td>1854.0</td>\n",
       "      <td>0.0</td>\n",
       "      <td>none</td>\n",
       "      <td>UCcartHVtvAUzfajflyeT_Gg</td>\n",
       "      <td>Miss Katy</td>\n",
       "      <td>https://www.youtube.com/channel/UCcartHVtvAUzf...</td>\n",
       "      <td>Блогеры</td>\n",
       "      <td>0.0</td>\n",
       "      <td>0.0</td>\n",
       "      <td>NaN</td>\n",
       "    </tr>\n",
       "    <tr>\n",
       "      <th>1</th>\n",
       "      <td>2018-06-29</td>\n",
       "      <td>ЗАБАГАЛИ Лизу в Реальной Жизни АРТУР и НАСТЯ F...</td>\n",
       "      <td>Lcp0pFZF4eQ</td>\n",
       "      <td>none</td>\n",
       "      <td>https://www.youtube.com/watch?v=Lcp0pFZF4eQ</td>\n",
       "      <td>[ЗАБАГАЛИ Лизу в Реальной Жизни АРТУР и НАСТЯ ...</td>\n",
       "      <td>602.0</td>\n",
       "      <td>0.0</td>\n",
       "      <td>none</td>\n",
       "      <td>UCWI7puXzGTPuxsoW2HD3XxQ</td>\n",
       "      <td>Boys and Toys</td>\n",
       "      <td>https://youtube.com/channel/UCWI7puXzGTPuxsoW2...</td>\n",
       "      <td>Блогеры</td>\n",
       "      <td>0.0</td>\n",
       "      <td>0.0</td>\n",
       "      <td>NaN</td>\n",
       "    </tr>\n",
       "    <tr>\n",
       "      <th>2</th>\n",
       "      <td>2023-11-26</td>\n",
       "      <td>Грозная семейка  Лучшие СЕСТРИНСКИЕ моменты  с...</td>\n",
       "      <td>z8d6LbiBRnk</td>\n",
       "      <td>none</td>\n",
       "      <td>https://www.youtube.com/watch?v=z8d6LbiBRnk</td>\n",
       "      <td>[Грозная семейка  Лучшие СЕСТРИНСКИЕ моменты  ...</td>\n",
       "      <td>3604.0</td>\n",
       "      <td>0.0</td>\n",
       "      <td>none</td>\n",
       "      <td>UCw3vK8lNe5SZzL--rMgq-CQ</td>\n",
       "      <td>Nickelodeon_Cyrillic</td>\n",
       "      <td>https://youtube.com/channel/UCw3vK8lNe5SZzL--r...</td>\n",
       "      <td>Мультфильмы</td>\n",
       "      <td>0.0</td>\n",
       "      <td>0.0</td>\n",
       "      <td>NaN</td>\n",
       "    </tr>\n",
       "    <tr>\n",
       "      <th>3</th>\n",
       "      <td>2016-05-30</td>\n",
       "      <td>Как сделать ожерелье из ткани своими руками</td>\n",
       "      <td>0iu0p_Y8DjM</td>\n",
       "      <td>none</td>\n",
       "      <td>https://www.youtube.com/watch?v=0iu0p_Y8DjM</td>\n",
       "      <td>[Как сделать ожерелье из ткани своими руками] ...</td>\n",
       "      <td>264.0</td>\n",
       "      <td>0.0</td>\n",
       "      <td>none</td>\n",
       "      <td>UCq1JpGFxcZTbbOAz010U-og</td>\n",
       "      <td>Трум Трум</td>\n",
       "      <td>https://youtube.com/channel/UCq1JpGFxcZTbbOAz0...</td>\n",
       "      <td>Блогеры</td>\n",
       "      <td>0.0</td>\n",
       "      <td>0.0</td>\n",
       "      <td>NaN</td>\n",
       "    </tr>\n",
       "    <tr>\n",
       "      <th>4</th>\n",
       "      <td>2023-07-06</td>\n",
       "      <td>Sleepover Rules  Om Nom Stories  Cartoon for k...</td>\n",
       "      <td>rYwOVp_Edjw</td>\n",
       "      <td>none</td>\n",
       "      <td>https://www.youtube.com/watch?v=rYwOVp_Edjw</td>\n",
       "      <td>[Sleepover Rules  Om Nom Stories  Cartoon for ...</td>\n",
       "      <td>42899.0</td>\n",
       "      <td>0.0</td>\n",
       "      <td>none</td>\n",
       "      <td>UCniI-BQk7qAtXNmmz40LSdg</td>\n",
       "      <td>Kedoo Toons TV Funny Animations</td>\n",
       "      <td>https://youtube.com/channel/UCniI-BQk7qAtXNmmz...</td>\n",
       "      <td>Мультфильмы</td>\n",
       "      <td>0.0</td>\n",
       "      <td>0.0</td>\n",
       "      <td>NaN</td>\n",
       "    </tr>\n",
       "  </tbody>\n",
       "</table>\n",
       "</div>"
      ],
      "text/plain": [
       "         date                                          reel_name   yt_reel_id  \\\n",
       "0  2023-12-30     100 подарков и только один можно оставить себе  PyGZL_fCbSc   \n",
       "1  2018-06-29  ЗАБАГАЛИ Лизу в Реальной Жизни АРТУР и НАСТЯ F...  Lcp0pFZF4eQ   \n",
       "2  2023-11-26  Грозная семейка  Лучшие СЕСТРИНСКИЕ моменты  с...  z8d6LbiBRnk   \n",
       "3  2016-05-30        Как сделать ожерелье из ткани своими руками  0iu0p_Y8DjM   \n",
       "4  2023-07-06  Sleepover Rules  Om Nom Stories  Cartoon for k...  rYwOVp_Edjw   \n",
       "\n",
       "  cartoon                                          url  \\\n",
       "0    none  https://www.youtube.com/watch?v=PyGZL_fCbSc   \n",
       "1    none  https://www.youtube.com/watch?v=Lcp0pFZF4eQ   \n",
       "2    none  https://www.youtube.com/watch?v=z8d6LbiBRnk   \n",
       "3    none  https://www.youtube.com/watch?v=0iu0p_Y8DjM   \n",
       "4    none  https://www.youtube.com/watch?v=rYwOVp_Edjw   \n",
       "\n",
       "                                                text  seconds  is_shorts  \\\n",
       "0  [100 подарков и только один можно оставить себе]    1854.0        0.0   \n",
       "1  [ЗАБАГАЛИ Лизу в Реальной Жизни АРТУР и НАСТЯ ...    602.0        0.0   \n",
       "2  [Грозная семейка  Лучшие СЕСТРИНСКИЕ моменты  ...   3604.0        0.0   \n",
       "3  [Как сделать ожерелье из ткани своими руками] ...    264.0        0.0   \n",
       "4  [Sleepover Rules  Om Nom Stories  Cartoon for ...  42899.0        0.0   \n",
       "\n",
       "  broadcast             yt_channel_id                  yt_channel_name  \\\n",
       "0      none  UCcartHVtvAUzfajflyeT_Gg                        Miss Katy   \n",
       "1      none  UCWI7puXzGTPuxsoW2HD3XxQ                    Boys and Toys   \n",
       "2      none  UCw3vK8lNe5SZzL--rMgq-CQ             Nickelodeon_Cyrillic   \n",
       "3      none  UCq1JpGFxcZTbbOAz010U-og                        Трум Трум   \n",
       "4      none  UCniI-BQk7qAtXNmmz40LSdg  Kedoo Toons TV Funny Animations   \n",
       "\n",
       "                                           yt_ch_url yt_channel_type  \\\n",
       "0  https://www.youtube.com/channel/UCcartHVtvAUzf...         Блогеры   \n",
       "1  https://youtube.com/channel/UCWI7puXzGTPuxsoW2...         Блогеры   \n",
       "2  https://youtube.com/channel/UCw3vK8lNe5SZzL--r...     Мультфильмы   \n",
       "3  https://youtube.com/channel/UCq1JpGFxcZTbbOAz0...         Блогеры   \n",
       "4  https://youtube.com/channel/UCniI-BQk7qAtXNmmz...     Мультфильмы   \n",
       "\n",
       "   flag_closed  international language  \n",
       "0          0.0            0.0      NaN  \n",
       "1          0.0            0.0      NaN  \n",
       "2          0.0            0.0      NaN  \n",
       "3          0.0            0.0      NaN  \n",
       "4          0.0            0.0      NaN  "
      ]
     },
     "metadata": {},
     "output_type": "display_data"
    }
   ],
   "source": [
    "discover(data)"
   ]
  },
  {
   "cell_type": "code",
   "execution_count": 7,
   "metadata": {
    "execution": {
     "iopub.execute_input": "2024-10-23T14:03:16.016113Z",
     "iopub.status.busy": "2024-10-23T14:03:16.015715Z",
     "iopub.status.idle": "2024-10-23T14:03:16.117675Z",
     "shell.execute_reply": "2024-10-23T14:03:16.116716Z",
     "shell.execute_reply.started": "2024-10-23T14:03:16.016068Z"
    }
   },
   "outputs": [
    {
     "data": {
      "text/plain": [
       "date                   0\n",
       "reel_name              3\n",
       "yt_reel_id             0\n",
       "cartoon                0\n",
       "url                    0\n",
       "text                   0\n",
       "seconds             8758\n",
       "is_shorts           8758\n",
       "broadcast           8758\n",
       "yt_channel_id         45\n",
       "yt_channel_name       48\n",
       "yt_ch_url             48\n",
       "yt_channel_type       48\n",
       "flag_closed           48\n",
       "international         48\n",
       "language           82914\n",
       "dtype: int64"
      ]
     },
     "execution_count": 7,
     "metadata": {},
     "output_type": "execute_result"
    }
   ],
   "source": [
    "data.isna().sum()"
   ]
  },
  {
   "cell_type": "code",
   "execution_count": 8,
   "metadata": {
    "execution": {
     "iopub.execute_input": "2024-10-23T14:03:16.119487Z",
     "iopub.status.busy": "2024-10-23T14:03:16.119003Z",
     "iopub.status.idle": "2024-10-23T14:03:16.140494Z",
     "shell.execute_reply": "2024-10-23T14:03:16.139563Z",
     "shell.execute_reply.started": "2024-10-23T14:03:16.119440Z"
    }
   },
   "outputs": [
    {
     "data": {
      "text/plain": [
       "cartoon\n",
       "none                          78231\n",
       "Маша и медведь                  853\n",
       "Говорящий Том                   589\n",
       "Буба                            529\n",
       "Кошечки собачки                 437\n",
       "Енотки                          379\n",
       "Бэтмен                          353\n",
       "ЖилаБыла Царевна                229\n",
       "Оранжевая корова                227\n",
       "Зебра в клеточку                188\n",
       "Фиксики                         151\n",
       "Чик-Чирикино                    137\n",
       "Сумка                           134\n",
       "Черепашки Ниндзя                104\n",
       "Чуддики                          86\n",
       "My little pony                   81\n",
       "Свинка Пеппа                     69\n",
       "Синий трактор                    67\n",
       "Чучело-Мяучело                   64\n",
       "Малышарики                       60\n",
       "Пороро                           51\n",
       "Смешарики                        41\n",
       "Приключения Пети и Волка         41\n",
       "Трансформеры                     40\n",
       "Простоквашино                    35\n",
       "Щенячий патруль                  32\n",
       "Царевны                          32\n",
       "Cry babies magic tears           22\n",
       "Крутиксы                         22\n",
       "Кукутики                         17\n",
       "Акуленок                         11\n",
       "Симпсоны                         10\n",
       "Губка Боб                        10\n",
       "Лунтик                           10\n",
       "Мини-мишки                        8\n",
       "Финник                            8\n",
       "Чебурашка                         8\n",
       "Ну_погоди каникулы                7\n",
       "Барбоскины                        7\n",
       "Цветняшки                         6\n",
       "Котик Мормотик                    6\n",
       "Паровозики Чаттингтон             6\n",
       "Бременские музыканты              6\n",
       "Enchantimals (Эншантималс)        4\n",
       "Вспыш                             3\n",
       "Name: count, dtype: int64"
      ]
     },
     "execution_count": 8,
     "metadata": {},
     "output_type": "execute_result"
    }
   ],
   "source": [
    "data['cartoon'].value_counts() #названия мультфильмов"
   ]
  },
  {
   "cell_type": "code",
   "execution_count": 9,
   "metadata": {
    "execution": {
     "iopub.execute_input": "2024-10-23T14:03:16.141819Z",
     "iopub.status.busy": "2024-10-23T14:03:16.141500Z",
     "iopub.status.idle": "2024-10-23T14:03:16.156438Z",
     "shell.execute_reply": "2024-10-23T14:03:16.155551Z",
     "shell.execute_reply.started": "2024-10-23T14:03:16.141786Z"
    }
   },
   "outputs": [
    {
     "data": {
      "text/plain": [
       "45"
      ]
     },
     "execution_count": 9,
     "metadata": {},
     "output_type": "execute_result"
    }
   ],
   "source": [
    "data['cartoon'].nunique() #количество проектов"
   ]
  },
  {
   "cell_type": "code",
   "execution_count": 10,
   "metadata": {
    "execution": {
     "iopub.execute_input": "2024-10-23T14:03:16.161047Z",
     "iopub.status.busy": "2024-10-23T14:03:16.160732Z",
     "iopub.status.idle": "2024-10-23T14:03:16.172258Z",
     "shell.execute_reply": "2024-10-23T14:03:16.171152Z",
     "shell.execute_reply.started": "2024-10-23T14:03:16.161013Z"
    }
   },
   "outputs": [
    {
     "data": {
      "text/plain": [
       "language\n",
       "english    204\n",
       "spanish    201\n",
       "arabic      92\n",
       "Name: count, dtype: int64"
      ]
     },
     "execution_count": 10,
     "metadata": {},
     "output_type": "execute_result"
    }
   ],
   "source": [
    "data['language'].value_counts() #языки"
   ]
  }
 ],
 "metadata": {
  "kaggle": {
   "accelerator": "none",
   "dataSources": [
    {
     "datasetId": 5924761,
     "sourceId": 9691046,
     "sourceType": "datasetVersion"
    }
   ],
   "dockerImageVersionId": 30787,
   "isGpuEnabled": false,
   "isInternetEnabled": true,
   "language": "python",
   "sourceType": "notebook"
  },
  "kernelspec": {
   "display_name": "Python 3 (ipykernel)",
   "language": "python",
   "name": "python3"
  },
  "language_info": {
   "codemirror_mode": {
    "name": "ipython",
    "version": 3
   },
   "file_extension": ".py",
   "mimetype": "text/x-python",
   "name": "python",
   "nbconvert_exporter": "python",
   "pygments_lexer": "ipython3",
   "version": "3.12.4"
  }
 },
 "nbformat": 4,
 "nbformat_minor": 4
}
